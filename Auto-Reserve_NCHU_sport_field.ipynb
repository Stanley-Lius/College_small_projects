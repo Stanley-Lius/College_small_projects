{
  "nbformat": 4,
  "nbformat_minor": 0,
  "metadata": {
    "colab": {
      "provenance": []
    },
    "kernelspec": {
      "name": "python3",
      "display_name": "Python 3"
    },
    "language_info": {
      "name": "python"
    }
  },
  "cells": [
    {
      "cell_type": "markdown",
      "source": [
        "***這是一個可以用系上搶運動場地的使用者帳號自動登入體育館網站搶場地的爬蟲程式\n",
        "你只需要在下一格輸入系上的帳號、要搶的場地及時段，按下全部執行即可***"
      ],
      "metadata": {
        "id": "pxdFnNrxdF7t"
      }
    },
    {
      "cell_type": "code",
      "source": [
        "!/opt/bin/nvidia-smi"
      ],
      "metadata": {
        "colab": {
          "base_uri": "https://localhost:8080/"
        },
        "id": "h-DCDkVGxRWt",
        "outputId": "6f08934c-0510-4e9b-fa5e-0db8fe63605e"
      },
      "execution_count": null,
      "outputs": [
        {
          "output_type": "stream",
          "name": "stdout",
          "text": [
            "/bin/bash: /opt/bin/nvidia-smi: No such file or directory\n"
          ]
        }
      ]
    },
    {
      "cell_type": "code",
      "source": [
        "#對照表\n",
        "stadium_choices = {'羽球夜' : \"羽球場  (夜間)\",\n",
        "      '羽球早' : \"羽球場  (晨間)\",\n",
        "      '桌球' : \"桌球室\",\n",
        "      '網球' : \"網球場\",\n",
        "      '籃球' : \"室外籃球場\",\n",
        "      '足球' : \"五人制足球場\",\n",
        "      '排球早' : \"室外排球場（晨間）\",\n",
        "      '排球晚' : \"室外排球場（夜間）\",\n",
        "      '田徑場' : \"田徑場(含投打練習場) (測試中)\",\n",
        "}\n"
      ],
      "metadata": {
        "id": "UtoientEDr_I"
      },
      "execution_count": null,
      "outputs": []
    },
    {
      "cell_type": "code",
      "source": [
        "#請參考\n",
        "account = 'Vpm-EECS'#字符串中輸入帳號，例:'input_account'\n",
        "password = '2020eecs'#輸入密碼\n",
        "stadium = stadium_choices['排球晚']\n",
        "date = '2022/03/08 星期二'#請輸入日期，星期，中間空一格，像:2020/02/14 星期一\n",
        "min = 0\n",
        "hour = 0 #設定要搶場地的時間，記得必須提前三分鐘跑程式，24小時制\n",
        "field_num = 14 #場地順序先場地在加時段，例:總共有五個場五個時段要搶第二場第三時段就是5*2+2=12\n",
        "error = 0#紀錄辨識錯誤的次數\n",
        "add = 0"
      ],
      "metadata": {
        "id": "U2VF6oqrTDOt"
      },
      "execution_count": null,
      "outputs": []
    },
    {
      "cell_type": "code",
      "source": [
        "from google.colab import drive\n",
        "drive.mount('/content/drive')"
      ],
      "metadata": {
        "colab": {
          "base_uri": "https://localhost:8080/"
        },
        "id": "ic35M4loSMcz",
        "outputId": "4370912d-d512-4c30-bc77-b3441134d3cb"
      },
      "execution_count": null,
      "outputs": [
        {
          "output_type": "stream",
          "name": "stdout",
          "text": [
            "Drive already mounted at /content/drive; to attempt to forcibly remount, call drive.mount(\"/content/drive\", force_remount=True).\n"
          ]
        }
      ]
    },
    {
      "cell_type": "markdown",
      "source": [
        "1.整理程式\n",
        "2.把sleep 改成顯示等待\n",
        "3.加入時鐘以便在整點時搶場地\n",
        "4.將幾種會用到的場地整理成字典:排球、籃球、羽球場，還有時段\n",
        "5.如果驗證錯誤則重新跑一次"
      ],
      "metadata": {
        "id": "Mo-dmQWwlu3M"
      }
    },
    {
      "cell_type": "code",
      "source": [
        "#!apt-get update #更新apt，可以不執行"
      ],
      "metadata": {
        "id": "0VzDtDJ0OgQc"
      },
      "execution_count": null,
      "outputs": []
    },
    {
      "cell_type": "code",
      "source": [
        "#!apt-get install python3-pip #下載最新版的pip，可以不執行"
      ],
      "metadata": {
        "id": "1VHrimMhfjb0"
      },
      "execution_count": null,
      "outputs": []
    },
    {
      "cell_type": "code",
      "source": [
        "!pip install selenium #安裝網站操控模組"
      ],
      "metadata": {
        "colab": {
          "base_uri": "https://localhost:8080/"
        },
        "id": "nu8WF5Yodwjv",
        "outputId": "d28ddaea-5593-4616-a4cd-e0f22ad16e55"
      },
      "execution_count": null,
      "outputs": [
        {
          "output_type": "stream",
          "name": "stdout",
          "text": [
            "Requirement already satisfied: selenium in /usr/local/lib/python3.7/dist-packages (4.1.2)\n",
            "Requirement already satisfied: trio-websocket~=0.9 in /usr/local/lib/python3.7/dist-packages (from selenium) (0.9.2)\n",
            "Requirement already satisfied: urllib3[secure,socks]~=1.26 in /usr/local/lib/python3.7/dist-packages (from selenium) (1.26.8)\n",
            "Requirement already satisfied: trio~=0.17 in /usr/local/lib/python3.7/dist-packages (from selenium) (0.20.0)\n",
            "Requirement already satisfied: sortedcontainers in /usr/local/lib/python3.7/dist-packages (from trio~=0.17->selenium) (2.4.0)\n",
            "Requirement already satisfied: attrs>=19.2.0 in /usr/local/lib/python3.7/dist-packages (from trio~=0.17->selenium) (21.4.0)\n",
            "Requirement already satisfied: async-generator>=1.9 in /usr/local/lib/python3.7/dist-packages (from trio~=0.17->selenium) (1.10)\n",
            "Requirement already satisfied: idna in /usr/local/lib/python3.7/dist-packages (from trio~=0.17->selenium) (2.10)\n",
            "Requirement already satisfied: sniffio in /usr/local/lib/python3.7/dist-packages (from trio~=0.17->selenium) (1.2.0)\n",
            "Requirement already satisfied: outcome in /usr/local/lib/python3.7/dist-packages (from trio~=0.17->selenium) (1.1.0)\n",
            "Requirement already satisfied: wsproto>=0.14 in /usr/local/lib/python3.7/dist-packages (from trio-websocket~=0.9->selenium) (1.1.0)\n",
            "Requirement already satisfied: PySocks!=1.5.7,<2.0,>=1.5.6 in /usr/local/lib/python3.7/dist-packages (from urllib3[secure,socks]~=1.26->selenium) (1.7.1)\n",
            "Requirement already satisfied: certifi in /usr/local/lib/python3.7/dist-packages (from urllib3[secure,socks]~=1.26->selenium) (2021.10.8)\n",
            "Requirement already satisfied: cryptography>=1.3.4 in /usr/local/lib/python3.7/dist-packages (from urllib3[secure,socks]~=1.26->selenium) (36.0.1)\n",
            "Requirement already satisfied: pyOpenSSL>=0.14 in /usr/local/lib/python3.7/dist-packages (from urllib3[secure,socks]~=1.26->selenium) (22.0.0)\n",
            "Requirement already satisfied: cffi>=1.12 in /usr/local/lib/python3.7/dist-packages (from cryptography>=1.3.4->urllib3[secure,socks]~=1.26->selenium) (1.15.0)\n",
            "Requirement already satisfied: pycparser in /usr/local/lib/python3.7/dist-packages (from cffi>=1.12->cryptography>=1.3.4->urllib3[secure,socks]~=1.26->selenium) (2.21)\n",
            "Requirement already satisfied: h11<1,>=0.9.0 in /usr/local/lib/python3.7/dist-packages (from wsproto>=0.14->trio-websocket~=0.9->selenium) (0.13.0)\n",
            "Requirement already satisfied: typing-extensions in /usr/local/lib/python3.7/dist-packages (from h11<1,>=0.9.0->wsproto>=0.14->trio-websocket~=0.9->selenium) (3.10.0.2)\n"
          ]
        }
      ]
    },
    {
      "cell_type": "code",
      "source": [
        "\n",
        "!apt install chromium-chromedriver #安裝chrome驅動以便selenium驅動chrome瀏覽器\n"
      ],
      "metadata": {
        "colab": {
          "base_uri": "https://localhost:8080/"
        },
        "id": "OjcewmZWhWST",
        "outputId": "3ee52515-c5cb-447a-a608-797dc026bf79"
      },
      "execution_count": null,
      "outputs": [
        {
          "output_type": "stream",
          "name": "stdout",
          "text": [
            "Reading package lists... Done\n",
            "Building dependency tree       \n",
            "Reading state information... Done\n",
            "chromium-chromedriver is already the newest version (97.0.4692.71-0ubuntu0.18.04.1).\n",
            "The following package was automatically installed and is no longer required:\n",
            "  libnvidia-common-470\n",
            "Use 'apt autoremove' to remove it.\n",
            "0 upgraded, 0 newly installed, 0 to remove and 39 not upgraded.\n"
          ]
        }
      ]
    },
    {
      "cell_type": "code",
      "source": [
        "!dpkg --configure -a"
      ],
      "metadata": {
        "id": "mj8gXyl3CYUG"
      },
      "execution_count": null,
      "outputs": []
    },
    {
      "cell_type": "code",
      "source": [
        "!cp /usr/lib/chromium-browser/chromedriver /usr/bin #複製chromedriver到bin目錄下"
      ],
      "metadata": {
        "colab": {
          "base_uri": "https://localhost:8080/"
        },
        "id": "RiqROt1DiYFr",
        "outputId": "eadc14ea-58e8-4f89-f487-1890862a46b1"
      },
      "execution_count": null,
      "outputs": [
        {
          "output_type": "stream",
          "name": "stdout",
          "text": [
            "cp: '/usr/lib/chromium-browser/chromedriver' and '/usr/bin/chromedriver' are the same file\n"
          ]
        }
      ]
    },
    {
      "cell_type": "code",
      "source": [
        "import sys # 將chromedriver 設為環境變數\n",
        "sys.path.insert(0,'/usr/lib/chromium-browser/chromedriver')"
      ],
      "metadata": {
        "id": "bbLLQyWuwYQF"
      },
      "execution_count": null,
      "outputs": []
    },
    {
      "cell_type": "code",
      "source": [
        "from selenium import webdriver #瀏覽器驅動器\n",
        "from selenium.webdriver.common.keys import Keys#鍵盤事件Keys類，參考https://www.cnblogs.com/ZhengYing0813/p/12447761.html\n",
        "from selenium.webdriver.common.by import By#定位器，用於定位html中的各種元素\n",
        "from selenium.webdriver.support import expected_conditions as EC#檢視是否符合指定條件。回傳TRUE,FALSE\n",
        "from selenium.webdriver.support.wait import WebDriverWait#顯式等待，與EC結合使用，參考https://blog.csdn.net/sinat_41774836/article/details/88965281\n",
        "from selenium.webdriver.support.ui import Select\n",
        "from selenium.common.exceptions import UnexpectedAlertPresentException\n",
        "from selenium.common.exceptions import NoSuchElementException\n",
        "import pandas as pd#分析資料用\n",
        "from PIL import Image#操作圖片用\n",
        "import time\n",
        "import datetime\n",
        "from typing_extensions import final\n",
        "import cv2 as cv#圖片處理\n",
        "from google.colab.patches import cv2_imshow#輸出圖片\n",
        "import numpy as np#數學、矩陣運算\n",
        "from PIL import Image#存取圖片用\n",
        "import os#控制主機\n",
        "\n",
        "\n",
        "#瀏覽器驅動設定值\n",
        "chrome_options = webdriver.ChromeOptions() #初始化瀏覽器參數\n",
        "chrome_options.add_argument('--headless')#添加啟動參數，沒有開啟視窗；此部分有錯誤不能在colab中打開視窗\n",
        "chrome_options.add_argument('--no-sandbox')#添加參數沒有沙盒\n",
        "chrome_options.add_argument('--disable-dev-shm-usage')#停用 /dev/shm資料夾，原因不明\n",
        "browser = webdriver.Chrome('chromedriver',options=chrome_options)#指定google chrome為瀏覽器\n",
        "wait = WebDriverWait(browser,5, 0.5)#指定等待參數\n",
        "\n",
        "url = 'http://pe.nchu.edu.tw/NewVenueRental/'#學校體育室網站\n",
        "\n",
        "w, h = 800, 600#瀏覽器要設置的視窗大小"
      ],
      "metadata": {
        "id": "0xEuYqJjWAOy"
      },
      "execution_count": null,
      "outputs": []
    },
    {
      "cell_type": "code",
      "source": [
        "#mse均方差損失函數，可以找到兩圖片在數學空間上的距離有多大，誤差越小越相近，參考https://bigdatafinance.tw/index.php/news/607-5\n",
        "def mse(imgA, imgB):\n",
        "  err = np.sum((imgA.astype(np.float32)/255 - imgB.astype(np.float32)/255) ** 2)\n",
        "  err /= float(imgA.shape[0] * imgA.shape[1])\n",
        "  return err\n",
        "\n"
      ],
      "metadata": {
        "id": "ifWoOCVBwrV4"
      },
      "execution_count": null,
      "outputs": []
    },
    {
      "cell_type": "code",
      "source": [
        "\n",
        "\"\"\"def getNumber(pic,h,w):\n",
        "  min_a = 999999999 #誤差值，先設很大\n",
        "  min_png  = None #資料庫圖片的檔名\n",
        "  for png in os.listdir('/content/drive/MyDrive/chapter'):\n",
        "    ref = cv.imread('/content/drive/MyDrive/chapter/'+png)#讀取圖片\n",
        "    #print('/content/drive/MyDrive/chapter/'+png)\n",
        "    ref = cv.resize(ref, (300, 300))#以防萬一google在上傳照片時改了照片大小，resize一次\n",
        "    sp1 = ref.shape#找到圖片尺寸到小參數\n",
        "    if abs(h-sp1[0]) <= 10 and abs(w-sp1[1]) <= 10:#以防萬一，誤差在十以內才開始辨識\n",
        "      if mse(ref, pic) < min_a :#呼叫mse函式，且如果誤差值小於先前的誤差值，則替換min_png，重複直到找到最小誤差值\n",
        "        min_a = mse(ref, pic)\n",
        "        min_png = png\n",
        "  return min_png[0]#輸出照店檔名第一個字，也就是辨識出來的字元\"\"\""
      ],
      "metadata": {
        "id": "YzSNiz0LVM9V",
        "colab": {
          "base_uri": "https://localhost:8080/",
          "height": 88
        },
        "outputId": "18acf79a-e298-4835-d49a-9622e452e55c"
      },
      "execution_count": null,
      "outputs": [
        {
          "output_type": "execute_result",
          "data": {
            "application/vnd.google.colaboratory.intrinsic+json": {
              "type": "string"
            },
            "text/plain": [
              "\"def getNumber(pic,h,w):\\n  min_a = 999999999 #誤差值，先設很大\\n  min_png  = None #資料庫圖片的檔名\\n  for png in os.listdir('/content/drive/MyDrive/chapter'):\\n    ref = cv.imread('/content/drive/MyDrive/chapter/'+png)#讀取圖片\\n    #print('/content/drive/MyDrive/chapter/'+png)\\n    ref = cv.resize(ref, (300, 300))#以防萬一google在上傳照片時改了照片大小，resize一次\\n    sp1 = ref.shape#找到圖片尺寸到小參數\\n    if abs(h-sp1[0]) <= 10 and abs(w-sp1[1]) <= 10:#以防萬一，誤差在十以內才開始辨識\\n      if mse(ref, pic) < min_a :#呼叫mse函式，且如果誤差值小於先前的誤差值，則替換min_png，重複直到找到最小誤差值\\n        min_a = mse(ref, pic)\\n        min_png = png\\n  return min_png[0]#輸出照店檔名第一個字，也就是辨識出來的字元\""
            ]
          },
          "metadata": {},
          "execution_count": 114
        }
      ]
    },
    {
      "cell_type": "code",
      "source": [
        "def getNumber(pic,h,w,mode):\n",
        "  min_a = 999999999 #誤差值，先設很大\n",
        "  min_png  = None #資料庫圖片的檔名\n",
        "  pic = cv.resize(pic,(300,300))\n",
        "  print(h,w)\n",
        "  if h >= 130:\n",
        "    for weight in os.listdir('/content/drive/MyDrive/chapter/131'):\n",
        "      #print(weight)\n",
        "      if abs(w - int(weight)) <= 2:\n",
        "        for png in os.listdir('/content/drive/MyDrive/chapter/131/' + str(weight)):\n",
        "          #print(png)\n",
        "          ref = cv.imread('/content/drive/MyDrive/chapter/131/'+str(weight)+'/'+png)\n",
        "          #print('/content/drive/MyDrive/chapter/131/'+str(weight)+'/'+png)\n",
        "          ref = cv.resize(ref, (300, 300))#以防萬一google在上傳照片時改了照片大小，resize一次\n",
        "          #if abs(h-sp1[0]) <= 10 and abs(w-sp1[1]) <= 10:#以防萬一，誤差在十以內才開始辨識\n",
        "          MSE = mse(ref, pic)\n",
        "          if  MSE >=0.001 and MSE < 0.4:\n",
        "            min_a = MSE\n",
        "            min_png = png\n",
        "            print(min_a)\n",
        "            return min_png[0]\n",
        "          elif MSE < min_a :#呼叫mse函式，且如果誤差值小於先前的誤差值，則替換min_png，重複直到找到最小誤差值\n",
        "            min_a = MSE\n",
        "            min_png = png\n",
        "  elif h < 130 :\n",
        "    for weight in os.listdir('/content/drive/MyDrive/chapter/130'):\n",
        "      if abs(w - int(weight)) <= 2:\n",
        "        for png in os.listdir('/content/drive/MyDrive/chapter/130/' + weight):\n",
        "          ref = cv.imread('/content/drive/MyDrive/chapter/130/'+str(weight)+'/'+png)#讀取圖片\n",
        "          ref = cv.resize(ref, (300, 300))#以防萬一google在上傳照片時改了照片大小，resize一次\n",
        "          #if abs(h-sp1[0]) <= 10 and abs(w-sp1[1]) <= 10:#以防萬一，誤差在十以內才開始辨識\n",
        "          MSE = mse(ref, pic)\n",
        "          if  MSE >=0.001 and MSE < 0.4:\n",
        "            min_a = MSE\n",
        "            min_png = png\n",
        "            print(min_a)\n",
        "            return min_png[0]\n",
        "          elif MSE  < min_a :#呼叫mse函式，且如果誤差值小於先前的誤差值，則替換min_png，重複直到找到最小誤差值\n",
        "            min_a = MSE\n",
        "            min_png = png\n",
        "  print(min_a)\n",
        "  #查看是否會有照片尺寸與資料庫中不同的例外\n",
        "  try :\n",
        "    print(min_png[0])\n",
        "    if min_a > 1 :\n",
        "      if mode == 1:#是在登錄時出錯，重跑一次登陸程式\n",
        "        recog_login_captcha()\n",
        "      elif mode == 2:\n",
        "        browser.get(browser.current_url)#是在確認要搶的場地時出錯，重搶一次場地\n",
        "      recog_check_captcha()\n",
        "  except TypeError :\n",
        "    if mode == 1:#是在登錄時出錯，重跑一次登陸程式\n",
        "      recog_login_captcha()\n",
        "    elif mode == 2:\n",
        "      browser.get(browser.current_url)#是在確認要搶的場地時出錯，重搶一次場地\n",
        "      recog_check_captcha()\n",
        "  return min_png[0]#輸出照店檔名第一個字，也就是辨識出來的字元"
      ],
      "metadata": {
        "id": "_HM8cUoGBWDM"
      },
      "execution_count": null,
      "outputs": []
    },
    {
      "cell_type": "code",
      "source": [
        "def recognize_login(photo):\n",
        "  kernel = np.ones((5,5),np.uint8)#捲積大小，由於opencv圖片讀取是用uint8格式，數值是介於0~255之間\n",
        "  kernel_1 = np.ones((5,5),np.uint8)\n",
        "  img = cv.imread(photo)#讀取圖片\n",
        "  img = cv.resize(img, (1500, 300))#放大圖片，此處驗證碼長寬比5:1\n",
        "  #cv2_imshow(img)\n",
        "\n",
        "  gray_img = cv.cvtColor(img,cv.COLOR_BGR2GRAY)#轉成灰階圖片\n",
        "\n",
        "\n",
        "  ret, thresh = cv.threshold(gray_img,0,255,cv.THRESH_BINARY_INV | cv.THRESH_OTSU)#用閥值來去除雜訊，使用的演算法為黑白反轉以及大津二質化，參考https://www.wongwonggoods.com/python/python_opencv/opencv-threshold-all-otsu/\n",
        "  #cv2_imshow(thresh)\n",
        "  erosion = cv.erode(thresh, kernel , iterations = 3)#侵蝕圖片，讓小於kernal的躁點消失，且運行3次。跌帶次數越少，所需時間越短\n",
        "  #cv2_imshow(erosion)\n",
        "  dilation = cv.dilate(erosion, kernel, iterations = 4)#膨脹圖片，讓數字及字母膨脹圖片，讓數字及字母變大\n",
        "  #cv2_imshow(dilation)\n",
        "  final_img = cv.cvtColor(dilation,cv.COLOR_GRAY2BGR)#再把圖片轉回BGR模式以便找到輪廓\n",
        "  #final_img = cv.cvtColor(final_img,cv.COLOR_BGR2HSV)\n",
        "\n",
        "  cv.bitwise_not(thresh, thresh)#0~1,1~0\n",
        "\n",
        "  contours, hierarchy = cv.findContours(dilation,cv.RETR_EXTERNAL,cv.CHAIN_APPROX_SIMPLE)#找到外圍輪廓，參考https://blog.csdn.net/dcrmg/article/details/51987348\n",
        "  contours = [c for c in contours if cv.contourArea(c) > 1100]#把找到的輪廓排列取大於1100的\n",
        "  contours = sorted(contours, key=cv.contourArea, reverse=True)[:5]\n",
        "  #cv.drawContours(final_img,contours,-1,(0,255,0),3)#畫出輪廓\n",
        "  for ctr in range(len(contours)):\n",
        "    for ctrr in range(len(contours)):\n",
        "      momA = cv.moments(contours[ctr])#找每個輪廓在圖片中的質量矩進而得到中心位置，然後由左到右排列\n",
        "      (xa,ya) = int(momA['m10']/momA['m00']),int(momA['m01']/momA['m00'])\n",
        "      momB = cv.moments(contours[ctrr])\n",
        "      (xb,yb) = int(momB['m10']/momB['m00']),int(momB['m01']/momB['m00'])\n",
        "      if xa<xb:\n",
        "        contours[ctr],contours[ctrr] = contours[ctrr],contours[ctr]\n",
        "  #cv2_imshow(dilation)\n",
        "  rects = [cv.boundingRect(ctr) for ctr in contours]#把輪廓用四邊形圍起來\n",
        "  #print(rects)\n",
        "  breakcode = ''#儲存驗證碼的空字串\n",
        "\n",
        "  #裁切每個字母並改變大小統一為300X300，由於資料庫中的圖片也是從這個程式裁切而成，所以不用擔心圖片變形\n",
        "  for rect in rects:\n",
        "    #cv.rectangle(final_img,(rect[0],rect[1]),(rect[0]+rect[2],rect[1]+rect[3]),(0,255,0),3)\n",
        "    #cv2_imshow(final_img)\n",
        "    roi = final_img[int(rect[1]):int(rect[1]+rect[3]),int(rect[0]):int(rect[0]+rect[2])]\n",
        "    cv2_imshow(roi)\n",
        "    size = roi.shape\n",
        "    print(size)\n",
        "\n",
        "   # cv2_imshow(roi)\n",
        "\n",
        "    #sp = roi.shape#找到圖片尺寸大小\n",
        "    #print(sp)\n",
        "    breakcode += getNumber(roi,size[0],size[1],1)#呼叫便是個別單一數字的函式\n",
        "\n",
        "  print(breakcode)\n",
        "  return breakcode\n",
        "\n"
      ],
      "metadata": {
        "id": "1R3bQwqHBsEu"
      },
      "execution_count": null,
      "outputs": []
    },
    {
      "cell_type": "code",
      "source": [
        "def recognize_check(photo):\n",
        "  kernel = np.ones((5,5),np.uint8)#捲積大小，由於opencv圖片讀取是用uint8格式，數值是介於0~255之間\n",
        "  kernel_1 = np.ones((5,5),np.uint8)\n",
        "  img = cv.imread(photo)#讀取圖片\n",
        "  img = cv.resize(img, (1500, 300))#放大圖片，此處驗證碼長寬比5:1\n",
        "  #cv2_imshow(img)\n",
        "\n",
        "  gray_img = cv.cvtColor(img,cv.COLOR_BGR2GRAY)#轉成灰階圖片\n",
        "\n",
        "\n",
        "  ret, thresh = cv.threshold(gray_img,0,255,cv.THRESH_BINARY_INV | cv.THRESH_OTSU)#用閥值來去除雜訊，使用的演算法為黑白反轉以及大津二質化，參考https://www.wongwonggoods.com/python/python_opencv/opencv-threshold-all-otsu/\n",
        "  #cv2_imshow(thresh)\n",
        "  erosion = cv.erode(thresh, kernel , iterations = 3)#侵蝕圖片，讓小於kernal的躁點消失，且運行6次\n",
        "  #cv2_imshow(erosion)\n",
        "  dilation = cv.dilate(erosion, kernel, iterations = 4)#膨脹圖片，讓數字及字母膨脹圖片，讓數字及字母變大\n",
        "  #cv2_imshow(dilation)\n",
        "  final_img = cv.cvtColor(dilation,cv.COLOR_GRAY2BGR)#再把圖片轉回BGR模式以便找到輪廓\n",
        "  #final_img = cv.cvtColor(final_img,cv.COLOR_BGR2HSV)\n",
        "\n",
        "  cv.bitwise_not(thresh, thresh)#0~1,1~0\n",
        "\n",
        "  contours, hierarchy = cv.findContours(dilation,cv.RETR_EXTERNAL,cv.CHAIN_APPROX_SIMPLE)#找到外圍輪廓，參考https://blog.csdn.net/dcrmg/article/details/51987348\n",
        "  contours = [c for c in contours if cv.contourArea(c) > 1100]#把找到的輪廓排列取大於1100的\n",
        "  contours = sorted(contours, key=cv.contourArea, reverse=True)[:5]\n",
        "  #cv.drawContours(final_img,contours,-1,(0,255,0),3)#畫出輪廓\n",
        "  for ctr in range(len(contours)):\n",
        "    for ctrr in range(len(contours)):\n",
        "      momA = cv.moments(contours[ctr])#找每個輪廓在圖片中的質量矩進而得到中心位置，然後由左到右排列\n",
        "      (xa,ya) = int(momA['m10']/momA['m00']),int(momA['m01']/momA['m00'])\n",
        "      momB = cv.moments(contours[ctrr])\n",
        "      (xb,yb) = int(momB['m10']/momB['m00']),int(momB['m01']/momB['m00'])\n",
        "      if xa<xb:\n",
        "        contours[ctr],contours[ctrr] = contours[ctrr],contours[ctr]\n",
        "  #cv2_imshow(dilation)\n",
        "  rects = [cv.boundingRect(ctr) for ctr in contours]#把輪廓用四邊形圍起來\n",
        "  #print(rects)\n",
        "  breakcode = ''#儲存驗證碼的空字串\n",
        "\n",
        "  #裁切每個字母並改變大小統一為300X300，由於資料庫中的圖片也是從這個程式裁切而成，所以不用擔心圖片變形\n",
        "  for rect in rects:\n",
        "    #cv.rectangle(final_img,(rect[0],rect[1]),(rect[0]+rect[2],rect[1]+rect[3]),(0,255,0),3)\n",
        "    #cv2_imshow(final_img)\n",
        "    roi = final_img[int(rect[1]):int(rect[1]+rect[3]),int(rect[0]):int(rect[0]+rect[2])]\n",
        "    cv2_imshow(roi)\n",
        "    size = roi.shape\n",
        "    #cv2_imshow(roi)\n",
        "\n",
        "    #sp = roi.shape#找到圖片尺寸大小\n",
        "    #print(sp)\n",
        "    breakcode += getNumber(roi,size[0],size[1],2)#呼叫便是個別單一數字的函式\n",
        "\n",
        "  print(breakcode)\n",
        "  return breakcode\n",
        "\n"
      ],
      "metadata": {
        "id": "0P3AiNynBCJN"
      },
      "execution_count": null,
      "outputs": []
    },
    {
      "cell_type": "code",
      "source": [
        "\n",
        "\n",
        "def rent_time_again(addition):\n",
        "  browser.get('http://pe.nchu.edu.tw/NewVenueRental/?module=rent_pro')#應該不用跑，因為點擊的元素就是一個超連結\n",
        "  global error\n",
        "  #嘗試到下一個頁面執行程式，驗證碼輸入錯誤則會跑出警告視窗，則重跑一次登錄程式\n",
        "  \"\"\"try :\n",
        "    ele = wait.until(EC.visibility_of_element_located((By.XPATH, '//a[@href=\"?module=rent_pro\"]')))#顯示等待直到絕對路徑被找到\n",
        "    choice  = browser.find_element(By.XPATH,'//a[@href=\"?module=rent_pro\"]')#透過html節點找到預約場地的網址並點擊\n",
        "  except UnexpectedAlertPresentException :\n",
        "    error+=1\n",
        "    recog_login_captcha()\n",
        "  except NoSuchElementException:#若沒找到這個元素，則refresh網頁\n",
        "    browser.refresh\n",
        "    ele = wait.until(EC.visibility_of_element_located((By.XPATH, '//a[@href=\"?module=rent_pro\"]')))\n",
        "    choice  = browser.find_element(By.XPATH,'//a[@href=\"?module=rent_pro\"]')#透過html節點找到預約場地的網址並點擊\n",
        "\n",
        "\n",
        "\n",
        "  choice.click()\"\"\"\n",
        "\n",
        "\n",
        "\n",
        "\n",
        "  ele = wait.until(EC.visibility_of_element_located((By.XPATH, \"//select[@name='queryPlace']\")))#顯示等待直到絕對路徑被找到\n",
        "  element1 = browser.find_element(By.XPATH,\"//select[@name='queryPlace']\")#找到下拉式選單得絕對位置\n",
        "  sel1 = Select(element1);#將下拉式選單用Select()函數控制\n",
        "  sel1.select_by_visible_text(stadium)#選擇場地\n",
        "\n",
        "  ele = wait.until(EC.visibility_of_element_located((By.XPATH, \"//select[@name='date']\")))#顯示等待直到絕對路徑被找到\n",
        "  element2 = browser.find_element(By.XPATH,\"//select[@name='date']\")#原理同上，租借時間\n",
        "  sel2 = Select(element2)\n",
        "\n",
        "\n",
        "\n",
        "  submit = browser.find_element(By.XPATH,\"//input[@value='查詢']\")#找到查詢按鈕並點擊\n",
        "  sel2.select_by_visible_text(date)\n",
        "\n",
        "\n",
        "\n",
        "\n",
        "  submit.click()\n",
        "\n",
        "\n",
        "\n",
        "\n",
        "  final_check(addition)\n",
        "  #get_page_index()\n"
      ],
      "metadata": {
        "id": "41D6-cFj7hWu"
      },
      "execution_count": null,
      "outputs": []
    },
    {
      "cell_type": "code",
      "source": [
        "\n",
        "def final_fn():\n",
        "  global add\n",
        "  global error#最初宣告的變數\n",
        "  c_url = browser.current_url\n",
        "  ele = wait.until(EC.presence_of_element_located((By.XPATH,\"//*[@id='rent_form']/table/tbody/tr[2]/td/table/tbody/tr[4]/td[2]\")))\n",
        "  number = browser.find_element(By.XPATH,\"//*[@id='rent_form']/table/tbody/tr[2]/td/table/tbody/tr[4]/td[2]\")\n",
        "  #print(number.text)\n",
        "  if number.text == '01' or number.text == '02':\n",
        "    add+=1\n",
        "    rent_time_again(add)\n",
        "    #print(add)\n",
        "  final_check_bottom = browser.find_element(By.NAME,'checkword')\n",
        "  Image.open('check_captcha.png')\n",
        "  capt = recognize_check('check_captcha.png')\n",
        "  final_check_bottom.send_keys(capt)\n",
        "\n",
        "  final_click = browser.find_element(By.NAME,'save')\n",
        "  final_click.click()\n",
        "  print('click')\n",
        "\n",
        "  #試圖查看是否租借成功，若可以在新的頁面中找到modal這個元素，則代表執行成功了\n",
        "  try :\n",
        "    browser.refresh()\n",
        "    ele = wait.until(EC.presence_of_element_located((By.ID,\"modal\")))#顯示等待，回傳 true or false\n",
        "    print(error)\n",
        "    sys.exit('場地租借完成')\n",
        "  except UnexpectedAlertPresentException:#若驗證碼錯誤，則會跳出視窗警告\n",
        "    error+=1\n",
        "    browser.get(c_url)\n",
        "    recog_check_captcha()\n",
        "    print(error)\n",
        "    sys.exit('場地租借完成')#因為是重跑一次，所以有可能累計很多次的回全沒跑完，以防萬一所以加個程式中斷點\n",
        ""
      ],
      "metadata": {
        "id": "PkYuGlikO_BR"
      },
      "execution_count": null,
      "outputs": []
    },
    {
      "cell_type": "code",
      "source": [
        "def recog_check_captcha():\n",
        "  browser.set_window_size(w,h)#將瀏覽器設為指定大小\n",
        "  browser.execute_script(\"window.scrollTo(0, document.body.scrollHeight);\")#滑到底部\n",
        "  document_height_2 = browser.execute_script(\"return document.body.scrollHeight\")#找到網站的高度\n",
        "  browser.save_screenshot('bottom_2.png')#截圖\n",
        "  captchaimage_2 = browser.find_element(By.ID,'imgcode')#找到驗整碼的絕對位置\n",
        "\n",
        "\n",
        "  #設置驗整碼的上下左右四個位置\n",
        "  left_2 = captchaimage_2.location['x'] + 2\n",
        "  right_2 = left_2 + captchaimage_2.size['width'] -9.5\n",
        "  top_2 = h - (document_height_2 - captchaimage_2.location['y'])-22\n",
        "  bottom_2 = top_2 + captchaimage_2.size['height'] -8 #-5\n",
        "\n",
        "  img_2 = Image.open('bottom_2.png')#打開圖片\n",
        "  captcha_2  = img_2.crop((left_2,top_2,right_2,bottom_2))#裁切圖片\n",
        "  captcha_2.save('check_captcha.png')#將驗證碼儲存\n",
        "\n",
        "\n",
        "\n",
        "  final_fn()"
      ],
      "metadata": {
        "id": "MkNv35DGOFjl"
      },
      "execution_count": null,
      "outputs": []
    },
    {
      "cell_type": "code",
      "source": [
        "#找到瀏覽器當下網址中的所有超連結\n",
        "def find_href():\n",
        "  elements = browser.find_elements(By.XPATH,\"//a[@href]\")#找到所有href超連結，注意find_elements的s(代表複數個)\n",
        "  print(len(elements))\n",
        "  \"\"\"for elem in elements:\n",
        "    print(elem.get_attribute(\"href\"))\"\"\"\n",
        "  return elements"
      ],
      "metadata": {
        "id": "JmBVm3VugNat"
      },
      "execution_count": null,
      "outputs": []
    },
    {
      "cell_type": "code",
      "source": [
        "\n",
        "def get_page_index():\n",
        "  browser.get('http://pe.nchu.edu.tw/NewVenueRental/')\n",
        "  try:\n",
        "    print(browser.page_source)\n",
        "  except Exception as e:\n",
        "    print(str(e),E)\n",
        "\n",
        "\n"
      ],
      "metadata": {
        "id": "5qWGs9zHIE4j"
      },
      "execution_count": null,
      "outputs": []
    },
    {
      "cell_type": "code",
      "source": [
        "def final_check(weight):\n",
        "  ele = wait.until(EC.presence_of_all_elements_located((By.TAG_NAME,'a')))#顯示等待直到有任何一個超連結元素被找到\n",
        "  all_ele = find_href()\n",
        "  #browser.get('http://pe.nchu.edu.tw/NewVenueRental/index.php?module=rent_pro')\n",
        "  #bollow_url = \"?module=rent_pro&value=TjIwMjIwMjE\"+str(week)+'LU'+str(t)+'wM'+str(stadium_number)+\"==&p=4\"\n",
        "  #print(weight)\n",
        "  uri = all_ele[23+field_num+weight].get_attribute(\"href\")\n",
        "  final_chioce = browser.find_element(By.XPATH,'//a[@href=\"{}\"]'.format(uri[37:]))\n",
        "  final_chioce.click()\n",
        "\n",
        "  #browser.get('http://pe.nchu.edu.tw/NewVenueRental/index.php?module=rent_pro&value=TjIwMjIwMjE'+str(week)+'LU'+str(time)+'wM'+str(stadium_number)+'==&p=4')#直接進入想選的場地編號及時間的網址\n",
        "\n",
        "\n",
        "  recog_check_captcha()"
      ],
      "metadata": {
        "id": "ucQNdH-D-bQI"
      },
      "execution_count": null,
      "outputs": []
    },
    {
      "cell_type": "code",
      "source": [
        "\n",
        "\n",
        "def rent_time():\n",
        "  global error\n",
        "  #嘗試到下一個頁面執行程式，驗證碼輸入錯誤則會跑出警告視窗，則重跑一次登錄程式\n",
        "  try :\n",
        "    ele = wait.until(EC.visibility_of_element_located((By.XPATH, '//a[@href=\"?module=rent_pro\"]')))#顯示等待直到絕對路徑被找到\n",
        "    choice  = browser.find_element(By.XPATH,'//a[@href=\"?module=rent_pro\"]')#透過html節點找到預約場地的網址並點擊\n",
        "  except UnexpectedAlertPresentException :\n",
        "    error+=1\n",
        "    recog_login_captcha()\n",
        "  except NoSuchElementException:#若沒找到這個元素，則refresh網頁\n",
        "    browser.refresh\n",
        "    ele = wait.until(EC.visibility_of_element_located((By.XPATH, '//a[@href=\"?module=rent_pro\"]')))\n",
        "    choice  = browser.find_element(By.XPATH,'//a[@href=\"?module=rent_pro\"]')#透過html節點找到預約場地的網址並點擊\n",
        "\n",
        "\n",
        "\n",
        "  choice.click()\n",
        "\n",
        "  #browser.get('http://pe.nchu.edu.tw/NewVenueRental/index.php?module=rent_pro')#應該不用跑，因為點擊的元素就是一個超連結\n",
        "\n",
        "\n",
        "  now = datetime.datetime.now(tz=datetime.timezone(datetime.timedelta(hours=8)))#現在時間\n",
        "  print(datetime.datetime.now())\n",
        "  while now.minute != min  or now.hour != hour  :#若與指定的時間不同則無限迴圈\n",
        "    #print(now.minute)\n",
        "    #print('時間還沒到')\n",
        "    now = datetime.datetime.now(tz=datetime.timezone(datetime.timedelta(hours=8)))\n",
        "  browser.refresh()\n",
        "\n",
        "  ele = wait.until(EC.visibility_of_element_located((By.XPATH, \"//select[@name='queryPlace']\")))#顯示等待直到絕對路徑被找到\n",
        "  element1 = browser.find_element(By.XPATH,\"//select[@name='queryPlace']\")#找到下拉式選單得絕對位置\n",
        "  sel1 = Select(element1);#將下拉式選單用Select()函數控制\n",
        "  sel1.select_by_visible_text(stadium)#選擇場地\n",
        "\n",
        "  ele = wait.until(EC.visibility_of_element_located((By.XPATH, \"//select[@name='date']\")))#顯示等待直到絕對路徑被找到\n",
        "  element2 = browser.find_element(By.XPATH,\"//select[@name='date']\")#原理同上，租借時間\n",
        "  sel2 = Select(element2)\n",
        "\n",
        "\n",
        "\n",
        "  submit = browser.find_element(By.XPATH,\"//input[@value='查詢']\")#找到查詢按鈕並點擊\n",
        "  sel2.select_by_visible_text(date)\n",
        "\n",
        "\n",
        "\n",
        "\n",
        "  submit.click()\n",
        "\n",
        "\n",
        "\n",
        "\n",
        "  final_check(0)\n",
        "  #get_page_index()\n"
      ],
      "metadata": {
        "id": "sxVZ0hRTKr4k"
      },
      "execution_count": null,
      "outputs": []
    },
    {
      "cell_type": "code",
      "source": [
        "\n",
        "\n",
        "def login(cap):\n",
        "  input = browser.find_element(By.NAME,\"account\")#透過名稱找到輸入帳號的框框\n",
        "  input.send_keys(account)#輸入帳號\n",
        "\n",
        "\n",
        "  #輸入密碼\n",
        "  input = browser.find_element(By.NAME,\"pwd\")\n",
        "  input.send_keys(password)\n",
        "\n",
        "\n",
        "  #輸入驗證碼\n",
        "  input = browser.find_element(By.NAME,\"checkword\")\n",
        "  input.send_keys(cap)\n",
        "\n",
        "\n",
        "  #找到登入件並點擊它\n",
        "\n",
        "  commit = browser.find_element(By.NAME,'login')\n",
        "  commit.click()\n",
        "\n",
        "\n",
        "  #get_page_index()\n",
        "\n",
        "  rent_time()\n",
        "\n"
      ],
      "metadata": {
        "id": "q3RwVUbLDhB7"
      },
      "execution_count": null,
      "outputs": []
    },
    {
      "cell_type": "code",
      "source": [
        "def recog_login_captcha():\n",
        "\n",
        "\n",
        "  global url\n",
        "\n",
        "  browser.get(url)\n",
        "\n",
        "\n",
        "\n",
        "  browser.set_window_size(w, h)\n",
        "  browser.execute_script(\"window.scrollTo(0, document.body.scrollHeight);\")#下拉頁面到底部\n",
        "  document_height  = browser.execute_script(\"return document.body.scrollHeight\")#返回網站的高度非瀏覽器設置的600\n",
        "  browser.save_screenshot('bottom.png')#截圖並儲存\n",
        "\n",
        "\n",
        "  captchaimage = browser.find_element(By.ID,'imgcode')#透過元素在網站中的ID 尋找驗證碼在html中的element代號及位置\n",
        "\n",
        "  #找到驗證碼圖片的上下左右位置\n",
        "  left = captchaimage.location['x'] +2 #經過精算，各網站圖不一定一樣，captchaimage['x']為驗證碼圖片左上角點的x座標\n",
        "  right = left + captchaimage.size['width'] -9.5\n",
        "  top = h - (document_height - captchaimage.location['y']) -22\n",
        "  bottom = top + captchaimage.size['height'] -8\n",
        "\n",
        "  #打開剛才截圖的網站圖片\n",
        "  img = Image.open('bottom.png')\n",
        "  captcha = img.crop((left,top,right,bottom))#裁減圖片\n",
        "  captcha.save('login_captcha.png')\n",
        "  Image.open('login_captcha.png')\n",
        "  captcha = recognize_login('login_captcha.png')\n",
        "\n",
        "  login(captcha)\n"
      ],
      "metadata": {
        "id": "hRHuuNRgeKoW"
      },
      "execution_count": null,
      "outputs": []
    },
    {
      "cell_type": "code",
      "source": [
        "recog_login_captcha()"
      ],
      "metadata": {
        "colab": {
          "base_uri": "https://localhost:8080/",
          "height": 1000
        },
        "id": "pB56GDhT6xlk",
        "outputId": "7a99cb7c-cec2-4165-e89b-3407dfe072ba"
      },
      "execution_count": null,
      "outputs": [
        {
          "output_type": "display_data",
          "data": {
            "image/png": "[encoded data removed]",
            "text/plain": [
              "<PIL.Image.Image image mode=RGB size=116x144 at 0x7FA8CA437A10>"
            ]
          },
          "metadata": {}
        },
        {
          "output_type": "stream",
          "name": "stdout",
          "text": [
            "(144, 116, 3)\n",
            "144 116\n",
            "0.010230034044053819\n"
          ]
        },
        {
          "output_type": "display_data",
          "data": {
            "image/png": "[encoded data removed]",
            "text/plain": [
              "<PIL.Image.Image image mode=RGB size=116x112 at 0x7FA8CA437A10>"
            ]
          },
          "metadata": {}
        },
        {
          "output_type": "stream",
          "name": "stdout",
          "text": [
            "(112, 116, 3)\n",
            "112 116\n",
            "0.42721397569444447\n",
            "m\n"
          ]
        },
        {
          "output_type": "display_data",
          "data": {
            "image/png": "[encoded data removed]",
            "text/plain": [
              "<PIL.Image.Image image mode=RGB size=111x144 at 0x7FA8CA437A90>"
            ]
          },
          "metadata": {}
        },
        {
          "output_type": "stream",
          "name": "stdout",
          "text": [
            "(144, 111, 3)\n",
            "144 111\n",
            "0.07101031358506944\n"
          ]
        },
        {
          "output_type": "display_data",
          "data": {
            "image/png": "[encoded data removed]",
            "text/plain": [
              "<PIL.Image.Image image mode=RGB size=80x144 at 0x7FA8CA437F90>"
            ]
          },
          "metadata": {}
        },
        {
          "output_type": "stream",
          "name": "stdout",
          "text": [
            "(144, 80, 3)\n",
            "144 80\n",
            "0.009946694607204862\n"
          ]
        },
        {
          "output_type": "display_data",
          "data": {
            "image/png": "[encoded data removed]",
            "text/plain": [
              "<PIL.Image.Image image mode=RGB size=99x144 at 0x7FA8CA437D50>"
            ]
          },
          "metadata": {}
        },
        {
          "output_type": "stream",
          "name": "stdout",
          "text": [
            "(144, 99, 3)\n",
            "144 99\n",
            "0.7842036458333334\n",
            "e\n",
            "mmfie\n"
          ]
        },
        {
          "output_type": "display_data",
          "data": {
            "image/png": "[encoded data removed]",
            "text/plain": [
              "<PIL.Image.Image image mode=RGB size=126x144 at 0x7FA8CA64A790>"
            ]
          },
          "metadata": {}
        },
        {
          "output_type": "stream",
          "name": "stdout",
          "text": [
            "(144, 126, 3)\n",
            "144 126\n",
            "0.7552487847222222\n",
            "k\n"
          ]
        },
        {
          "output_type": "display_data",
          "data": {
            "image/png": "[encoded data removed]",
            "text/plain": [
              "<PIL.Image.Image image mode=RGB size=113x144 at 0x7FA8CA48E650>"
            ]
          },
          "metadata": {}
        },
        {
          "output_type": "stream",
          "name": "stdout",
          "text": [
            "(144, 113, 3)\n",
            "144 113\n",
            "0.04706477864583333\n"
          ]
        },
        {
          "output_type": "display_data",
          "data": {
            "image/png": "[encoded data removed]",
            "text/plain": [
              "<PIL.Image.Image image mode=RGB size=117x144 at 0x7FA8CA48ECD0>"
            ]
          },
          "metadata": {}
        },
        {
          "output_type": "stream",
          "name": "stdout",
          "text": [
            "(144, 117, 3)\n",
            "144 117\n",
            "0.027209760199652776\n"
          ]
        },
        {
          "output_type": "display_data",
          "data": {
            "image/png": "[encoded data removed]",
            "text/plain": [
              "<PIL.Image.Image image mode=RGB size=112x144 at 0x7FA8CA48E650>"
            ]
          },
          "metadata": {}
        },
        {
          "output_type": "stream",
          "name": "stdout",
          "text": [
            "(144, 112, 3)\n",
            "144 112\n",
            "0.01734629855685764\n"
          ]
        },
        {
          "output_type": "display_data",
          "data": {
            "image/png": "[encoded data removed]",
            "text/plain": [
              "<PIL.Image.Image image mode=RGB size=99x143 at 0x7FA8CA48E9D0>"
            ]
          },
          "metadata": {}
        },
        {
          "output_type": "stream",
          "name": "stdout",
          "text": [
            "(143, 99, 3)\n",
            "143 99\n",
            "0.5522057291666667\n",
            "e\n",
            "kfr3e\n"
          ]
        },
        {
          "output_type": "display_data",
          "data": {
            "image/png": "[encoded data removed]",
            "text/plain": [
              "<PIL.Image.Image image mode=RGB size=126x144 at 0x7FA8CA647A10>"
            ]
          },
          "metadata": {}
        },
        {
          "output_type": "stream",
          "name": "stdout",
          "text": [
            "(144, 126, 3)\n",
            "144 126\n",
            "0.37960677083333333\n"
          ]
        },
        {
          "output_type": "display_data",
          "data": {
            "image/png": "[encoded data removed]",
            "text/plain": [
              "<PIL.Image.Image image mode=RGB size=116x166 at 0x7FA8CA647310>"
            ]
          },
          "metadata": {}
        },
        {
          "output_type": "stream",
          "name": "stdout",
          "text": [
            "(166, 116, 3)\n",
            "166 116\n",
            "0.46797951388888887\n",
            "h\n"
          ]
        },
        {
          "output_type": "display_data",
          "data": {
            "image/png": "[encoded data removed]",
            "text/plain": [
              "<PIL.Image.Image image mode=RGB size=116x102 at 0x7FA8CA654890>"
            ]
          },
          "metadata": {}
        },
        {
          "output_type": "stream",
          "name": "stdout",
          "text": [
            "(102, 116, 3)\n",
            "102 116\n",
            "0.00810251193576389\n"
          ]
        },
        {
          "output_type": "display_data",
          "data": {
            "image/png": "[encoded data removed]",
            "text/plain": [
              "<PIL.Image.Image image mode=RGB size=117x112 at 0x7FA8CA654E10>"
            ]
          },
          "metadata": {}
        },
        {
          "output_type": "stream",
          "name": "stdout",
          "text": [
            "(112, 117, 3)\n",
            "112 117\n",
            "0.5755075954861111\n",
            "a\n"
          ]
        },
        {
          "output_type": "display_data",
          "data": {
            "image/png": "[encoded data removed]",
            "text/plain": [
              "<PIL.Image.Image image mode=RGB size=116x144 at 0x7FA8CA654610>"
            ]
          },
          "metadata": {}
        },
        {
          "output_type": "stream",
          "name": "stdout",
          "text": [
            "(144, 116, 3)\n",
            "144 116\n",
            "0.019589835611979165\n",
            "bhna9\n",
            "2022-03-01 15:50:13.518596\n",
            "37\n"
          ]
        },
        {
          "output_type": "error",
          "ename": "IndexError",
          "evalue": "ignored",
          "traceback": [
            "\u001b[0;31m---------------------------------------------------------------------------\u001b[0m",
            "\u001b[0;31mUnexpectedAlertPresentException\u001b[0m           Traceback (most recent call last)",
            "\u001b[0;32m<ipython-input-124-cc8652769c52>\u001b[0m in \u001b[0;36mrent_time\u001b[0;34m()\u001b[0m\n\u001b[1;32m      6\u001b[0m   \u001b[0;32mtry\u001b[0m \u001b[0;34m:\u001b[0m\u001b[0;34m\u001b[0m\u001b[0;34m\u001b[0m\u001b[0m\n\u001b[0;32m----> 7\u001b[0;31m     \u001b[0mele\u001b[0m \u001b[0;34m=\u001b[0m \u001b[0mwait\u001b[0m\u001b[0;34m.\u001b[0m\u001b[0muntil\u001b[0m\u001b[0;34m(\u001b[0m\u001b[0mEC\u001b[0m\u001b[0;34m.\u001b[0m\u001b[0mvisibility_of_element_located\u001b[0m\u001b[0;34m(\u001b[0m\u001b[0;34m(\u001b[0m\u001b[0mBy\u001b[0m\u001b[0;34m.\u001b[0m\u001b[0mXPATH\u001b[0m\u001b[0;34m,\u001b[0m \u001b[0;34m'//a[@href=\"?module=rent_pro\"]'\u001b[0m\u001b[0;34m)\u001b[0m\u001b[0;34m)\u001b[0m\u001b[0;34m)\u001b[0m\u001b[0;31m#顯示等待直到絕對路徑被找到\u001b[0m\u001b[0;34m\u001b[0m\u001b[0;34m\u001b[0m\u001b[0m\n\u001b[0m\u001b[1;32m      8\u001b[0m     \u001b[0mchoice\u001b[0m  \u001b[0;34m=\u001b[0m \u001b[0mbrowser\u001b[0m\u001b[0;34m.\u001b[0m\u001b[0mfind_element\u001b[0m\u001b[0;34m(\u001b[0m\u001b[0mBy\u001b[0m\u001b[0;34m.\u001b[0m\u001b[0mXPATH\u001b[0m\u001b[0;34m,\u001b[0m\u001b[0;34m'//a[@href=\"?module=rent_pro\"]'\u001b[0m\u001b[0;34m)\u001b[0m\u001b[0;31m#透過html節點找到預約場地的網址並點擊\u001b[0m\u001b[0;34m\u001b[0m\u001b[0;34m\u001b[0m\u001b[0m\n",
            "\u001b[0;32m/usr/local/lib/python3.7/dist-packages/selenium/webdriver/support/wait.py\u001b[0m in \u001b[0;36muntil\u001b[0;34m(self, method, message)\u001b[0m\n\u001b[1;32m     77\u001b[0m             \u001b[0;32mtry\u001b[0m\u001b[0;34m:\u001b[0m\u001b[0;34m\u001b[0m\u001b[0;34m\u001b[0m\u001b[0m\n\u001b[0;32m---> 78\u001b[0;31m                 \u001b[0mvalue\u001b[0m \u001b[0;34m=\u001b[0m \u001b[0mmethod\u001b[0m\u001b[0;34m(\u001b[0m\u001b[0mself\u001b[0m\u001b[0;34m.\u001b[0m\u001b[0m_driver\u001b[0m\u001b[0;34m)\u001b[0m\u001b[0;34m\u001b[0m\u001b[0;34m\u001b[0m\u001b[0m\n\u001b[0m\u001b[1;32m     79\u001b[0m                 \u001b[0;32mif\u001b[0m \u001b[0mvalue\u001b[0m\u001b[0;34m:\u001b[0m\u001b[0;34m\u001b[0m\u001b[0;34m\u001b[0m\u001b[0m\n",
            "\u001b[0;32m/usr/local/lib/python3.7/dist-packages/selenium/webdriver/support/expected_conditions.py\u001b[0m in \u001b[0;36m_predicate\u001b[0;34m(driver)\u001b[0m\n\u001b[1;32m    124\u001b[0m         \u001b[0;32mtry\u001b[0m\u001b[0;34m:\u001b[0m\u001b[0;34m\u001b[0m\u001b[0;34m\u001b[0m\u001b[0m\n\u001b[0;32m--> 125\u001b[0;31m             \u001b[0;32mreturn\u001b[0m \u001b[0m_element_if_visible\u001b[0m\u001b[0;34m(\u001b[0m\u001b[0mdriver\u001b[0m\u001b[0;34m.\u001b[0m\u001b[0mfind_element\u001b[0m\u001b[0;34m(\u001b[0m\u001b[0;34m*\u001b[0m\u001b[0mlocator\u001b[0m\u001b[0;34m)\u001b[0m\u001b[0;34m)\u001b[0m\u001b[0;34m\u001b[0m\u001b[0;34m\u001b[0m\u001b[0m\n\u001b[0m\u001b[1;32m    126\u001b[0m         \u001b[0;32mexcept\u001b[0m \u001b[0mInvalidSelectorException\u001b[0m \u001b[0;32mas\u001b[0m \u001b[0me\u001b[0m\u001b[0;34m:\u001b[0m\u001b[0;34m\u001b[0m\u001b[0;34m\u001b[0m\u001b[0m\n",
            "\u001b[0;32m/usr/local/lib/python3.7/dist-packages/selenium/webdriver/remote/webdriver.py\u001b[0m in \u001b[0;36mfind_element\u001b[0;34m(self, by, value)\u001b[0m\n\u001b[1;32m   1249\u001b[0m             \u001b[0;34m'using'\u001b[0m\u001b[0;34m:\u001b[0m \u001b[0mby\u001b[0m\u001b[0;34m,\u001b[0m\u001b[0;34m\u001b[0m\u001b[0;34m\u001b[0m\u001b[0m\n\u001b[0;32m-> 1250\u001b[0;31m             'value': value})['value']\n\u001b[0m\u001b[1;32m   1251\u001b[0m \u001b[0;34m\u001b[0m\u001b[0m\n",
            "\u001b[0;32m/usr/local/lib/python3.7/dist-packages/selenium/webdriver/remote/webdriver.py\u001b[0m in \u001b[0;36mexecute\u001b[0;34m(self, driver_command, params)\u001b[0m\n\u001b[1;32m    424\u001b[0m         \u001b[0;32mif\u001b[0m \u001b[0mresponse\u001b[0m\u001b[0;34m:\u001b[0m\u001b[0;34m\u001b[0m\u001b[0;34m\u001b[0m\u001b[0m\n\u001b[0;32m--> 425\u001b[0;31m             \u001b[0mself\u001b[0m\u001b[0;34m.\u001b[0m\u001b[0merror_handler\u001b[0m\u001b[0;34m.\u001b[0m\u001b[0mcheck_response\u001b[0m\u001b[0;34m(\u001b[0m\u001b[0mresponse\u001b[0m\u001b[0;34m)\u001b[0m\u001b[0;34m\u001b[0m\u001b[0;34m\u001b[0m\u001b[0m\n\u001b[0m\u001b[1;32m    426\u001b[0m             response['value'] = self._unwrap_value(\n",
            "\u001b[0;32m/usr/local/lib/python3.7/dist-packages/selenium/webdriver/remote/errorhandler.py\u001b[0m in \u001b[0;36mcheck_response\u001b[0;34m(self, response)\u001b[0m\n\u001b[1;32m    245\u001b[0m                 \u001b[0malert_text\u001b[0m \u001b[0;34m=\u001b[0m \u001b[0mvalue\u001b[0m\u001b[0;34m[\u001b[0m\u001b[0;34m'alert'\u001b[0m\u001b[0;34m]\u001b[0m\u001b[0;34m.\u001b[0m\u001b[0mget\u001b[0m\u001b[0;34m(\u001b[0m\u001b[0;34m'text'\u001b[0m\u001b[0;34m)\u001b[0m\u001b[0;34m\u001b[0m\u001b[0;34m\u001b[0m\u001b[0m\n\u001b[0;32m--> 246\u001b[0;31m             \u001b[0;32mraise\u001b[0m \u001b[0mexception_class\u001b[0m\u001b[0;34m(\u001b[0m\u001b[0mmessage\u001b[0m\u001b[0;34m,\u001b[0m \u001b[0mscreen\u001b[0m\u001b[0;34m,\u001b[0m \u001b[0mstacktrace\u001b[0m\u001b[0;34m,\u001b[0m \u001b[0malert_text\u001b[0m\u001b[0;34m)\u001b[0m  \u001b[0;31m# type: ignore[call-arg]  # mypy is not smart enough here\u001b[0m\u001b[0;34m\u001b[0m\u001b[0;34m\u001b[0m\u001b[0m\n\u001b[0m\u001b[1;32m    247\u001b[0m         \u001b[0;32mraise\u001b[0m \u001b[0mexception_class\u001b[0m\u001b[0;34m(\u001b[0m\u001b[0mmessage\u001b[0m\u001b[0;34m,\u001b[0m \u001b[0mscreen\u001b[0m\u001b[0;34m,\u001b[0m \u001b[0mstacktrace\u001b[0m\u001b[0;34m)\u001b[0m\u001b[0;34m\u001b[0m\u001b[0;34m\u001b[0m\u001b[0m\n",
            "\u001b[0;31mUnexpectedAlertPresentException\u001b[0m: Alert Text: 驗證碼錯誤,請重新登入\nMessage: unexpected alert open: {Alert text : 驗證碼錯誤,請重新登入}\n  (Session info: headless chrome=97.0.4692.71)\nStacktrace:\n#0 0x560f0fe91e23 <unknown>\n#1 0x560f0fb898b3 <unknown>\n#2 0x560f0fbf1902 <unknown>\n#3 0x560f0fbdd253 <unknown>\n#4 0x560f0fbb38cc <unknown>\n#5 0x560f0fbb4d95 <unknown>\n#6 0x560f0feb67f0 <unknown>\n#7 0x560f0fec67bf <unknown>\n#8 0x560f0fec6559 <unknown>\n#9 0x560f0fec6d22 <unknown>\n#10 0x560f0feff30b <unknown>\n#11 0x560f0fec6f81 <unknown>\n#12 0x560f0feab0e3 <unknown>\n#13 0x560f0fecf9c8 <unknown>\n#14 0x560f0fecfb5a <unknown>\n#15 0x560f0fee96ef <unknown>\n#16 0x7f9d44e046db <unknown>\n",
            "\nDuring handling of the above exception, another exception occurred:\n",
            "\u001b[0;31mUnexpectedAlertPresentException\u001b[0m           Traceback (most recent call last)",
            "\u001b[0;32m<ipython-input-124-cc8652769c52>\u001b[0m in \u001b[0;36mrent_time\u001b[0;34m()\u001b[0m\n\u001b[1;32m      6\u001b[0m   \u001b[0;32mtry\u001b[0m \u001b[0;34m:\u001b[0m\u001b[0;34m\u001b[0m\u001b[0;34m\u001b[0m\u001b[0m\n\u001b[0;32m----> 7\u001b[0;31m     \u001b[0mele\u001b[0m \u001b[0;34m=\u001b[0m \u001b[0mwait\u001b[0m\u001b[0;34m.\u001b[0m\u001b[0muntil\u001b[0m\u001b[0;34m(\u001b[0m\u001b[0mEC\u001b[0m\u001b[0;34m.\u001b[0m\u001b[0mvisibility_of_element_located\u001b[0m\u001b[0;34m(\u001b[0m\u001b[0;34m(\u001b[0m\u001b[0mBy\u001b[0m\u001b[0;34m.\u001b[0m\u001b[0mXPATH\u001b[0m\u001b[0;34m,\u001b[0m \u001b[0;34m'//a[@href=\"?module=rent_pro\"]'\u001b[0m\u001b[0;34m)\u001b[0m\u001b[0;34m)\u001b[0m\u001b[0;34m)\u001b[0m\u001b[0;31m#顯示等待直到絕對路徑被找到\u001b[0m\u001b[0;34m\u001b[0m\u001b[0;34m\u001b[0m\u001b[0m\n\u001b[0m\u001b[1;32m      8\u001b[0m     \u001b[0mchoice\u001b[0m  \u001b[0;34m=\u001b[0m \u001b[0mbrowser\u001b[0m\u001b[0;34m.\u001b[0m\u001b[0mfind_element\u001b[0m\u001b[0;34m(\u001b[0m\u001b[0mBy\u001b[0m\u001b[0;34m.\u001b[0m\u001b[0mXPATH\u001b[0m\u001b[0;34m,\u001b[0m\u001b[0;34m'//a[@href=\"?module=rent_pro\"]'\u001b[0m\u001b[0;34m)\u001b[0m\u001b[0;31m#透過html節點找到預約場地的網址並點擊\u001b[0m\u001b[0;34m\u001b[0m\u001b[0;34m\u001b[0m\u001b[0m\n",
            "\u001b[0;32m/usr/local/lib/python3.7/dist-packages/selenium/webdriver/support/wait.py\u001b[0m in \u001b[0;36muntil\u001b[0;34m(self, method, message)\u001b[0m\n\u001b[1;32m     77\u001b[0m             \u001b[0;32mtry\u001b[0m\u001b[0;34m:\u001b[0m\u001b[0;34m\u001b[0m\u001b[0;34m\u001b[0m\u001b[0m\n\u001b[0;32m---> 78\u001b[0;31m                 \u001b[0mvalue\u001b[0m \u001b[0;34m=\u001b[0m \u001b[0mmethod\u001b[0m\u001b[0;34m(\u001b[0m\u001b[0mself\u001b[0m\u001b[0;34m.\u001b[0m\u001b[0m_driver\u001b[0m\u001b[0;34m)\u001b[0m\u001b[0;34m\u001b[0m\u001b[0;34m\u001b[0m\u001b[0m\n\u001b[0m\u001b[1;32m     79\u001b[0m                 \u001b[0;32mif\u001b[0m \u001b[0mvalue\u001b[0m\u001b[0;34m:\u001b[0m\u001b[0;34m\u001b[0m\u001b[0;34m\u001b[0m\u001b[0m\n",
            "\u001b[0;32m/usr/local/lib/python3.7/dist-packages/selenium/webdriver/support/expected_conditions.py\u001b[0m in \u001b[0;36m_predicate\u001b[0;34m(driver)\u001b[0m\n\u001b[1;32m    124\u001b[0m         \u001b[0;32mtry\u001b[0m\u001b[0;34m:\u001b[0m\u001b[0;34m\u001b[0m\u001b[0;34m\u001b[0m\u001b[0m\n\u001b[0;32m--> 125\u001b[0;31m             \u001b[0;32mreturn\u001b[0m \u001b[0m_element_if_visible\u001b[0m\u001b[0;34m(\u001b[0m\u001b[0mdriver\u001b[0m\u001b[0;34m.\u001b[0m\u001b[0mfind_element\u001b[0m\u001b[0;34m(\u001b[0m\u001b[0;34m*\u001b[0m\u001b[0mlocator\u001b[0m\u001b[0;34m)\u001b[0m\u001b[0;34m)\u001b[0m\u001b[0;34m\u001b[0m\u001b[0;34m\u001b[0m\u001b[0m\n\u001b[0m\u001b[1;32m    126\u001b[0m         \u001b[0;32mexcept\u001b[0m \u001b[0mInvalidSelectorException\u001b[0m \u001b[0;32mas\u001b[0m \u001b[0me\u001b[0m\u001b[0;34m:\u001b[0m\u001b[0;34m\u001b[0m\u001b[0;34m\u001b[0m\u001b[0m\n",
            "\u001b[0;32m/usr/local/lib/python3.7/dist-packages/selenium/webdriver/remote/webdriver.py\u001b[0m in \u001b[0;36mfind_element\u001b[0;34m(self, by, value)\u001b[0m\n\u001b[1;32m   1249\u001b[0m             \u001b[0;34m'using'\u001b[0m\u001b[0;34m:\u001b[0m \u001b[0mby\u001b[0m\u001b[0;34m,\u001b[0m\u001b[0;34m\u001b[0m\u001b[0;34m\u001b[0m\u001b[0m\n\u001b[0;32m-> 1250\u001b[0;31m             'value': value})['value']\n\u001b[0m\u001b[1;32m   1251\u001b[0m \u001b[0;34m\u001b[0m\u001b[0m\n",
            "\u001b[0;32m/usr/local/lib/python3.7/dist-packages/selenium/webdriver/remote/webdriver.py\u001b[0m in \u001b[0;36mexecute\u001b[0;34m(self, driver_command, params)\u001b[0m\n\u001b[1;32m    424\u001b[0m         \u001b[0;32mif\u001b[0m \u001b[0mresponse\u001b[0m\u001b[0;34m:\u001b[0m\u001b[0;34m\u001b[0m\u001b[0;34m\u001b[0m\u001b[0m\n\u001b[0;32m--> 425\u001b[0;31m             \u001b[0mself\u001b[0m\u001b[0;34m.\u001b[0m\u001b[0merror_handler\u001b[0m\u001b[0;34m.\u001b[0m\u001b[0mcheck_response\u001b[0m\u001b[0;34m(\u001b[0m\u001b[0mresponse\u001b[0m\u001b[0;34m)\u001b[0m\u001b[0;34m\u001b[0m\u001b[0;34m\u001b[0m\u001b[0m\n\u001b[0m\u001b[1;32m    426\u001b[0m             response['value'] = self._unwrap_value(\n",
            "\u001b[0;32m/usr/local/lib/python3.7/dist-packages/selenium/webdriver/remote/errorhandler.py\u001b[0m in \u001b[0;36mcheck_response\u001b[0;34m(self, response)\u001b[0m\n\u001b[1;32m    245\u001b[0m                 \u001b[0malert_text\u001b[0m \u001b[0;34m=\u001b[0m \u001b[0mvalue\u001b[0m\u001b[0;34m[\u001b[0m\u001b[0;34m'alert'\u001b[0m\u001b[0;34m]\u001b[0m\u001b[0;34m.\u001b[0m\u001b[0mget\u001b[0m\u001b[0;34m(\u001b[0m\u001b[0;34m'text'\u001b[0m\u001b[0;34m)\u001b[0m\u001b[0;34m\u001b[0m\u001b[0;34m\u001b[0m\u001b[0m\n\u001b[0;32m--> 246\u001b[0;31m             \u001b[0;32mraise\u001b[0m \u001b[0mexception_class\u001b[0m\u001b[0;34m(\u001b[0m\u001b[0mmessage\u001b[0m\u001b[0;34m,\u001b[0m \u001b[0mscreen\u001b[0m\u001b[0;34m,\u001b[0m \u001b[0mstacktrace\u001b[0m\u001b[0;34m,\u001b[0m \u001b[0malert_text\u001b[0m\u001b[0;34m)\u001b[0m  \u001b[0;31m# type: ignore[call-arg]  # mypy is not smart enough here\u001b[0m\u001b[0;34m\u001b[0m\u001b[0;34m\u001b[0m\u001b[0m\n\u001b[0m\u001b[1;32m    247\u001b[0m         \u001b[0;32mraise\u001b[0m \u001b[0mexception_class\u001b[0m\u001b[0;34m(\u001b[0m\u001b[0mmessage\u001b[0m\u001b[0;34m,\u001b[0m \u001b[0mscreen\u001b[0m\u001b[0;34m,\u001b[0m \u001b[0mstacktrace\u001b[0m\u001b[0;34m)\u001b[0m\u001b[0;34m\u001b[0m\u001b[0;34m\u001b[0m\u001b[0m\n",
            "\u001b[0;31mUnexpectedAlertPresentException\u001b[0m: Alert Text: 驗證碼錯誤,請重新登入\nMessage: unexpected alert open: {Alert text : 驗證碼錯誤,請重新登入}\n  (Session info: headless chrome=97.0.4692.71)\nStacktrace:\n#0 0x560f0fe91e23 <unknown>\n#1 0x560f0fb898b3 <unknown>\n#2 0x560f0fbf1902 <unknown>\n#3 0x560f0fbdd253 <unknown>\n#4 0x560f0fbb38cc <unknown>\n#5 0x560f0fbb4d95 <unknown>\n#6 0x560f0feb67f0 <unknown>\n#7 0x560f0fec67bf <unknown>\n#8 0x560f0fec6559 <unknown>\n#9 0x560f0fec6d22 <unknown>\n#10 0x560f0feff30b <unknown>\n#11 0x560f0fec6f81 <unknown>\n#12 0x560f0feab0e3 <unknown>\n#13 0x560f0fecf9c8 <unknown>\n#14 0x560f0fecfb5a <unknown>\n#15 0x560f0fee96ef <unknown>\n#16 0x7f9d44e046db <unknown>\n",
            "\nDuring handling of the above exception, another exception occurred:\n",
            "\u001b[0;31mIndexError\u001b[0m                                Traceback (most recent call last)",
            "\u001b[0;32m<ipython-input-130-8f9b8eacd2c3>\u001b[0m in \u001b[0;36m<module>\u001b[0;34m()\u001b[0m\n\u001b[0;32m----> 1\u001b[0;31m \u001b[0mrecog_login_captcha\u001b[0m\u001b[0;34m(\u001b[0m\u001b[0;34m)\u001b[0m\u001b[0;34m\u001b[0m\u001b[0;34m\u001b[0m\u001b[0m\n\u001b[0m",
            "\u001b[0;32m<ipython-input-126-19d894b4c18e>\u001b[0m in \u001b[0;36mrecog_login_captcha\u001b[0;34m()\u001b[0m\n\u001b[1;32m     29\u001b[0m   \u001b[0mcaptcha\u001b[0m \u001b[0;34m=\u001b[0m \u001b[0mrecognize_login\u001b[0m\u001b[0;34m(\u001b[0m\u001b[0;34m'login_captcha.png'\u001b[0m\u001b[0;34m)\u001b[0m\u001b[0;34m\u001b[0m\u001b[0;34m\u001b[0m\u001b[0m\n\u001b[1;32m     30\u001b[0m \u001b[0;34m\u001b[0m\u001b[0m\n\u001b[0;32m---> 31\u001b[0;31m   \u001b[0mlogin\u001b[0m\u001b[0;34m(\u001b[0m\u001b[0mcaptcha\u001b[0m\u001b[0;34m)\u001b[0m\u001b[0;34m\u001b[0m\u001b[0;34m\u001b[0m\u001b[0m\n\u001b[0m",
            "\u001b[0;32m<ipython-input-125-d0176ebbf601>\u001b[0m in \u001b[0;36mlogin\u001b[0;34m(cap)\u001b[0m\n\u001b[1;32m     24\u001b[0m   \u001b[0;31m#get_page_index()\u001b[0m\u001b[0;34m\u001b[0m\u001b[0;34m\u001b[0m\u001b[0;34m\u001b[0m\u001b[0m\n\u001b[1;32m     25\u001b[0m \u001b[0;34m\u001b[0m\u001b[0m\n\u001b[0;32m---> 26\u001b[0;31m   \u001b[0mrent_time\u001b[0m\u001b[0;34m(\u001b[0m\u001b[0;34m)\u001b[0m\u001b[0;34m\u001b[0m\u001b[0;34m\u001b[0m\u001b[0m\n\u001b[0m\u001b[1;32m     27\u001b[0m \u001b[0;34m\u001b[0m\u001b[0m\n",
            "\u001b[0;32m<ipython-input-124-cc8652769c52>\u001b[0m in \u001b[0;36mrent_time\u001b[0;34m()\u001b[0m\n\u001b[1;32m      9\u001b[0m   \u001b[0;32mexcept\u001b[0m \u001b[0mUnexpectedAlertPresentException\u001b[0m \u001b[0;34m:\u001b[0m\u001b[0;34m\u001b[0m\u001b[0;34m\u001b[0m\u001b[0m\n\u001b[1;32m     10\u001b[0m     \u001b[0merror\u001b[0m\u001b[0;34m+=\u001b[0m\u001b[0;36m1\u001b[0m\u001b[0;34m\u001b[0m\u001b[0;34m\u001b[0m\u001b[0m\n\u001b[0;32m---> 11\u001b[0;31m     \u001b[0mrecog_login_captcha\u001b[0m\u001b[0;34m(\u001b[0m\u001b[0;34m)\u001b[0m\u001b[0;34m\u001b[0m\u001b[0;34m\u001b[0m\u001b[0m\n\u001b[0m\u001b[1;32m     12\u001b[0m   \u001b[0;32mexcept\u001b[0m \u001b[0mNoSuchElementException\u001b[0m\u001b[0;34m:\u001b[0m\u001b[0;31m#若沒找到這個元素，則refresh網頁\u001b[0m\u001b[0;34m\u001b[0m\u001b[0;34m\u001b[0m\u001b[0m\n\u001b[1;32m     13\u001b[0m     \u001b[0mbrowser\u001b[0m\u001b[0;34m.\u001b[0m\u001b[0mrefresh\u001b[0m\u001b[0;34m\u001b[0m\u001b[0;34m\u001b[0m\u001b[0m\n",
            "\u001b[0;32m<ipython-input-126-19d894b4c18e>\u001b[0m in \u001b[0;36mrecog_login_captcha\u001b[0;34m()\u001b[0m\n\u001b[1;32m     29\u001b[0m   \u001b[0mcaptcha\u001b[0m \u001b[0;34m=\u001b[0m \u001b[0mrecognize_login\u001b[0m\u001b[0;34m(\u001b[0m\u001b[0;34m'login_captcha.png'\u001b[0m\u001b[0;34m)\u001b[0m\u001b[0;34m\u001b[0m\u001b[0;34m\u001b[0m\u001b[0m\n\u001b[1;32m     30\u001b[0m \u001b[0;34m\u001b[0m\u001b[0m\n\u001b[0;32m---> 31\u001b[0;31m   \u001b[0mlogin\u001b[0m\u001b[0;34m(\u001b[0m\u001b[0mcaptcha\u001b[0m\u001b[0;34m)\u001b[0m\u001b[0;34m\u001b[0m\u001b[0;34m\u001b[0m\u001b[0m\n\u001b[0m",
            "\u001b[0;32m<ipython-input-125-d0176ebbf601>\u001b[0m in \u001b[0;36mlogin\u001b[0;34m(cap)\u001b[0m\n\u001b[1;32m     24\u001b[0m   \u001b[0;31m#get_page_index()\u001b[0m\u001b[0;34m\u001b[0m\u001b[0;34m\u001b[0m\u001b[0;34m\u001b[0m\u001b[0m\n\u001b[1;32m     25\u001b[0m \u001b[0;34m\u001b[0m\u001b[0m\n\u001b[0;32m---> 26\u001b[0;31m   \u001b[0mrent_time\u001b[0m\u001b[0;34m(\u001b[0m\u001b[0;34m)\u001b[0m\u001b[0;34m\u001b[0m\u001b[0;34m\u001b[0m\u001b[0m\n\u001b[0m\u001b[1;32m     27\u001b[0m \u001b[0;34m\u001b[0m\u001b[0m\n",
            "\u001b[0;32m<ipython-input-124-cc8652769c52>\u001b[0m in \u001b[0;36mrent_time\u001b[0;34m()\u001b[0m\n\u001b[1;32m      9\u001b[0m   \u001b[0;32mexcept\u001b[0m \u001b[0mUnexpectedAlertPresentException\u001b[0m \u001b[0;34m:\u001b[0m\u001b[0;34m\u001b[0m\u001b[0;34m\u001b[0m\u001b[0m\n\u001b[1;32m     10\u001b[0m     \u001b[0merror\u001b[0m\u001b[0;34m+=\u001b[0m\u001b[0;36m1\u001b[0m\u001b[0;34m\u001b[0m\u001b[0;34m\u001b[0m\u001b[0m\n\u001b[0;32m---> 11\u001b[0;31m     \u001b[0mrecog_login_captcha\u001b[0m\u001b[0;34m(\u001b[0m\u001b[0;34m)\u001b[0m\u001b[0;34m\u001b[0m\u001b[0;34m\u001b[0m\u001b[0m\n\u001b[0m\u001b[1;32m     12\u001b[0m   \u001b[0;32mexcept\u001b[0m \u001b[0mNoSuchElementException\u001b[0m\u001b[0;34m:\u001b[0m\u001b[0;31m#若沒找到這個元素，則refresh網頁\u001b[0m\u001b[0;34m\u001b[0m\u001b[0;34m\u001b[0m\u001b[0m\n\u001b[1;32m     13\u001b[0m     \u001b[0mbrowser\u001b[0m\u001b[0;34m.\u001b[0m\u001b[0mrefresh\u001b[0m\u001b[0;34m\u001b[0m\u001b[0;34m\u001b[0m\u001b[0m\n",
            "\u001b[0;32m<ipython-input-126-19d894b4c18e>\u001b[0m in \u001b[0;36mrecog_login_captcha\u001b[0;34m()\u001b[0m\n\u001b[1;32m     29\u001b[0m   \u001b[0mcaptcha\u001b[0m \u001b[0;34m=\u001b[0m \u001b[0mrecognize_login\u001b[0m\u001b[0;34m(\u001b[0m\u001b[0;34m'login_captcha.png'\u001b[0m\u001b[0;34m)\u001b[0m\u001b[0;34m\u001b[0m\u001b[0;34m\u001b[0m\u001b[0m\n\u001b[1;32m     30\u001b[0m \u001b[0;34m\u001b[0m\u001b[0m\n\u001b[0;32m---> 31\u001b[0;31m   \u001b[0mlogin\u001b[0m\u001b[0;34m(\u001b[0m\u001b[0mcaptcha\u001b[0m\u001b[0;34m)\u001b[0m\u001b[0;34m\u001b[0m\u001b[0;34m\u001b[0m\u001b[0m\n\u001b[0m",
            "\u001b[0;32m<ipython-input-125-d0176ebbf601>\u001b[0m in \u001b[0;36mlogin\u001b[0;34m(cap)\u001b[0m\n\u001b[1;32m     24\u001b[0m   \u001b[0;31m#get_page_index()\u001b[0m\u001b[0;34m\u001b[0m\u001b[0;34m\u001b[0m\u001b[0;34m\u001b[0m\u001b[0m\n\u001b[1;32m     25\u001b[0m \u001b[0;34m\u001b[0m\u001b[0m\n\u001b[0;32m---> 26\u001b[0;31m   \u001b[0mrent_time\u001b[0m\u001b[0;34m(\u001b[0m\u001b[0;34m)\u001b[0m\u001b[0;34m\u001b[0m\u001b[0;34m\u001b[0m\u001b[0m\n\u001b[0m\u001b[1;32m     27\u001b[0m \u001b[0;34m\u001b[0m\u001b[0m\n",
            "\u001b[0;32m<ipython-input-124-cc8652769c52>\u001b[0m in \u001b[0;36mrent_time\u001b[0;34m()\u001b[0m\n\u001b[1;32m     52\u001b[0m \u001b[0;34m\u001b[0m\u001b[0m\n\u001b[1;32m     53\u001b[0m \u001b[0;34m\u001b[0m\u001b[0m\n\u001b[0;32m---> 54\u001b[0;31m   \u001b[0mfinal_check\u001b[0m\u001b[0;34m(\u001b[0m\u001b[0;36m0\u001b[0m\u001b[0;34m)\u001b[0m\u001b[0;34m\u001b[0m\u001b[0;34m\u001b[0m\u001b[0m\n\u001b[0m\u001b[1;32m     55\u001b[0m   \u001b[0;31m#get_page_index()\u001b[0m\u001b[0;34m\u001b[0m\u001b[0;34m\u001b[0m\u001b[0;34m\u001b[0m\u001b[0m\n",
            "\u001b[0;32m<ipython-input-123-4be9bd777217>\u001b[0m in \u001b[0;36mfinal_check\u001b[0;34m(weight)\u001b[0m\n\u001b[1;32m      5\u001b[0m   \u001b[0;31m#bollow_url = \"?module=rent_pro&value=TjIwMjIwMjE\"+str(week)+'LU'+str(t)+'wM'+str(stadium_number)+\"==&p=4\"\u001b[0m\u001b[0;34m\u001b[0m\u001b[0;34m\u001b[0m\u001b[0;34m\u001b[0m\u001b[0m\n\u001b[1;32m      6\u001b[0m   \u001b[0;31m#print(weight)\u001b[0m\u001b[0;34m\u001b[0m\u001b[0;34m\u001b[0m\u001b[0;34m\u001b[0m\u001b[0m\n\u001b[0;32m----> 7\u001b[0;31m   \u001b[0muri\u001b[0m \u001b[0;34m=\u001b[0m \u001b[0mall_ele\u001b[0m\u001b[0;34m[\u001b[0m\u001b[0;36m23\u001b[0m\u001b[0;34m+\u001b[0m\u001b[0mfield_num\u001b[0m\u001b[0;34m+\u001b[0m\u001b[0mweight\u001b[0m\u001b[0;34m]\u001b[0m\u001b[0;34m.\u001b[0m\u001b[0mget_attribute\u001b[0m\u001b[0;34m(\u001b[0m\u001b[0;34m\"href\"\u001b[0m\u001b[0;34m)\u001b[0m\u001b[0;34m\u001b[0m\u001b[0;34m\u001b[0m\u001b[0m\n\u001b[0m\u001b[1;32m      8\u001b[0m   \u001b[0mfinal_chioce\u001b[0m \u001b[0;34m=\u001b[0m \u001b[0mbrowser\u001b[0m\u001b[0;34m.\u001b[0m\u001b[0mfind_element\u001b[0m\u001b[0;34m(\u001b[0m\u001b[0mBy\u001b[0m\u001b[0;34m.\u001b[0m\u001b[0mXPATH\u001b[0m\u001b[0;34m,\u001b[0m\u001b[0;34m'//a[@href=\"{}\"]'\u001b[0m\u001b[0;34m.\u001b[0m\u001b[0mformat\u001b[0m\u001b[0;34m(\u001b[0m\u001b[0muri\u001b[0m\u001b[0;34m[\u001b[0m\u001b[0;36m37\u001b[0m\u001b[0;34m:\u001b[0m\u001b[0;34m]\u001b[0m\u001b[0;34m)\u001b[0m\u001b[0;34m)\u001b[0m\u001b[0;34m\u001b[0m\u001b[0;34m\u001b[0m\u001b[0m\n\u001b[1;32m      9\u001b[0m   \u001b[0mfinal_chioce\u001b[0m\u001b[0;34m.\u001b[0m\u001b[0mclick\u001b[0m\u001b[0;34m(\u001b[0m\u001b[0;34m)\u001b[0m\u001b[0;34m\u001b[0m\u001b[0;34m\u001b[0m\u001b[0m\n",
            "\u001b[0;31mIndexError\u001b[0m: list index out of range"
          ]
        }
      ]
    }
  ]
}