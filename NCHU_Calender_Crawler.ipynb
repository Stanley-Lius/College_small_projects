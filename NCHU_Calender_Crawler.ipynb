{
  "nbformat": 4,
  "nbformat_minor": 0,
  "metadata": {
    "colab": {
      "provenance": []
    },
    "kernelspec": {
      "name": "python3",
      "display_name": "Python 3"
    },
    "language_info": {
      "name": "python"
    }
  },
  "cells": [
    {
      "cell_type": "code",
      "source": [
        "import requests\n",
        "from bs4 import BeautifulSoup\n",
        "import re\n",
        "import numpy as np\n",
        "import datetime"
      ],
      "metadata": {
        "id": "vKuUq87HwKLC"
      },
      "execution_count": null,
      "outputs": []
    },
    {
      "cell_type": "code",
      "source": [
        "url = 'https://www.nchu.edu.tw/calendar/'\n",
        "headers = requests.utils.default_headers()\n",
        "# https://stackoverflow.com/questions/67809815/remote-end-closed-connection-without-response\n",
        "# 填寫HTTP header,證明自己為使用者\n",
        "headers.update(\n",
        "    {'User-Agent': 'My User Agent 1.0',\n",
        "     }\n",
        ")\n",
        "#https://stackoverflow.com/questions/10667960/python-requests-throwing-sslerror\n",
        "#ssl取消認證(可能有安全性問題)\n",
        "html = requests.get(url, verify = False,headers=headers)\n",
        "html.encoding = 'UTF-8'\n",
        "sp = BeautifulSoup(html.text, 'lxml')\n",
        "print(sp.title)\n"
      ],
      "metadata": {
        "colab": {
          "base_uri": "https://localhost:8080/"
        },
        "id": "8SEDOOLnwew7",
        "outputId": "a0017559-dbe3-47ce-9b4c-c288545bddd5"
      },
      "execution_count": null,
      "outputs": [
        {
          "output_type": "stream",
          "name": "stderr",
          "text": [
            "/usr/local/lib/python3.10/dist-packages/urllib3/connectionpool.py:1045: InsecureRequestWarning: Unverified HTTPS request is being made to host 'www.nchu.edu.tw'. Adding certificate verification is strongly advised. See: https://urllib3.readthedocs.io/en/1.26.x/advanced-usage.html#ssl-warnings\n",
            "  warnings.warn(\n"
          ]
        },
        {
          "output_type": "stream",
          "name": "stdout",
          "text": [
            "<title>行事曆 - NCHU,國立中興大學 - 國立中興大學(National Chung Hsing University)</title>\n"
          ]
        }
      ]
    },
    {
      "cell_type": "code",
      "source": [
        "title1 = sp.find('a',id='top1')\n",
        "title2 = sp.find('a',id='top2')\n",
        "#title1=str(title1).replace('<span lang=\"EN-US\">','')#python內建replace用法\n",
        "#title1=title1.replace(\"</span>\",\"\")\n",
        "title1=re.sub(r'<[a-zA-Z =\"0-9/-]*>',\"\",str(title1))#用正規表示式更方便\n",
        "print(title1)\n",
        "title2=re.sub(r'<[a-zA-Z =\"0-9/-]*>',\"\",str(title2))#用正規表示式更方便\n",
        "print(title2)"
      ],
      "metadata": {
        "id": "Dibr8bXhoScE",
        "colab": {
          "base_uri": "https://localhost:8080/"
        },
        "outputId": "7d931544-f85b-4fd9-84b3-1e2ad68204cd"
      },
      "execution_count": null,
      "outputs": [
        {
          "output_type": "stream",
          "name": "stdout",
          "text": [
            "國立中興大學111學年度第1學期行事曆\n",
            "國立中興大學111學年度第2學期行事曆\n"
          ]
        }
      ]
    },
    {
      "cell_type": "code",
      "source": [
        "def toCE(string,add=0):\n",
        "  year = re.findall(r'[0-9]{3}',string)[0]\n",
        "  year = int(year)+add+1911\n",
        "  return int(year)"
      ],
      "metadata": {
        "id": "en-sgobyf-yq"
      },
      "execution_count": null,
      "outputs": []
    },
    {
      "cell_type": "code",
      "source": [
        "list1 = sp.find_all('span', style=\"letter-spacing: -.3pt\")#找到行事曆中span標籤的所在地\n",
        "#將不必要的字符丟棄(<br/>、 </span>)\n",
        "for i in range(len(list1)):\n",
        "  list1[i] = str(list1[i]).split(\"<br/>\\r\\n\")\n",
        "print(list1)\n",
        "for i in range(len(list1)):\n",
        "  for j in range(len(list1[i])):\n",
        "    list1[i][j] = list1[i][j].replace(\" </span>\",\"\")\n",
        "#轉換成numpy矩陣\n",
        "arr= np.array(list1,dtype=object)\n",
        "#將矩陣攤平成一維矩陣\n",
        "arr=arr.flatten()\n",
        "final=[]\n",
        "vocation = np.array([])\n",
        "for i in range(len(arr)):\n",
        "  for j in range(len(arr[i])):\n",
        "    if(re.findall(r'.[^寒暑]假.',arr[i][j]) and re.findall(r':[0-9].*[0-9]',arr[i][j])):#用正規表示是找到有放假的\"假\"字的字串\n",
        "      date = re.findall(r':[0-9].*[0-9]',arr[i][j])[0]\n",
        "      length = len(date)\n",
        "      date = date[-length+1:]#將字串修剪成只有日期\n",
        "      date=date.replace(\"、\",\" \")\n",
        "      date=date.replace(\"-\",\" \")\n",
        "      date=date.split(\" \")\n",
        "      for k in range(len(date)):\n",
        "        date[k]=date[k].split('/')\n",
        "        for f in range(len(date[k])):\n",
        "          date[k][f]=int(date[k][f])\n",
        "      final.append(date)\n",
        "print(final)"
      ],
      "metadata": {
        "colab": {
          "base_uri": "https://localhost:8080/"
        },
        "id": "ujXcwSJEeiaN",
        "outputId": "47f0c0bd-e47c-4d44-e32a-285f59329969"
      },
      "execution_count": null,
      "outputs": [
        {
          "output_type": "stream",
          "name": "stdout",
          "text": [
            "[['<span lang=\"EN-US\" style=\"letter-spacing: -.3pt\"> (1)學期開始:8/1', '(2)學士班新生報到(第一梯次)、學士班及研究生新生辦理各類學雜費減免:7/25-8/2', '(3)進修學士班2-5年級網路初選:8/15-8/16', '(4)學士班新生報到(第二梯次:限指考生) 、辦理各類學雜費減免(限指考生):8/17-8/24', '(5)學士班及進修學士班通識課程預選:8/19-8/22', '(6)學士班通識課程初選抽籤:8/25', '(7)開放學雜費繳費(除學士班新生):8/26', '(8)全部學制學生(大一新生除外)就學貸款網站開放登錄及收件期間:8/26-9/19', '(9)進修學士班新生(含轉學生)網路初選:8/29', '(10)學士班各年級(含新生、轉學生)及研究生網路初選:8/29-9/2', '(11)新生進住宿舍:8/30-9/1 </span>'], ['<span lang=\"EN-US\" style=\"letter-spacing: -.3pt\"> (1)新生入學指導:9/2-9/3', '(2)全校學生開學、開始上課(註冊日)、開放學士班新生繳費:9/5', '(3)學士班、進修學士班及研究生(含碩專、產專生)網路加退選:9/5-9/9', '(4)學士班新生就學貸款網站開放及收件期間、全校抵免學分、輔系雙主修、學分學程及第二專長申請:9/5-9/19', '(5)9/9中秋節補假、9/10中秋節(放假):9/9-9/10', '(6)國家防災日地震避難預演:9/14', '(7)全校學生繳費截止:9/19', '(8)國家防災日地震避難演練:9/21', '(9)研究生論文口試截止、研究生畢業離校截止日:9/30 </span>'], ['<span lang=\"EN-US\" style=\"letter-spacing: -.3pt\"> (1)學士班應屆畢業生逕修讀博士學位申請:10/3-10/21', '(2)弱勢學生助學計畫助學金網路開放申請:10/4-10/20', '(3)10/10國慶日(放假):10/10', '(4)加退選學分費開放繳費、課程退選截止:10/14', '(5)上課達1/3 (第6週止):10/15', '(6)校園路跑、啦啦隊比賽、加退選繳費截止:10/28', '(7)全校運動會:10/29-10/30 </span>'], ['<span lang=\"EN-US\" style=\"letter-spacing: -.3pt\"> (1)校慶:11/1', '(2)上課達1/2 (第9週止):11/5', '(3)停修申請期間:11/7-12/2', '(4)學士班1年級週會:11/17', '(5)上課達2/3 (第12週止):11/26 </span>'], ['<span lang=\"EN-US\" style=\"letter-spacing: -.3pt\"> (1)學士班及進修學士班提前畢業申請:12/5-12/16', '(2)受理各類學雜費減免:12/19-12/30', '(3)休學申請截止日:12/30 </span>'], ['<span lang=\"EN-US\" style=\"letter-spacing: -.3pt\"> (1)1/1元旦(放假)、1/2元旦補假:1/1-1/2', '(2)學期考試(期末考試)、1/7補行上班(1/20調整放假):1/3-1/9', '(3)第1次校內英文能力檢定考試:1/10-1/12', '(4)研究生論文口試申請截止:1/10', '(5)全校停電檢驗日:1/14', '(6)學士班及進修學士班通識課程預選:1/16-1/17', '(7)進修學士班1-5年級網路初選:1/17-1/18', '(8)春節放假(1/21~1/24除夕至初三)、1/25、26除夕及初一補假、', '1/20、1/27調整放假:1/20-1/27', '(9)學雜費開放繳費、學士班通識課程初選抽籤:1/30', '(10)全部學制學生(含轉學生)就學貸款網站開放登錄及收件期間:1/30-2/13', '(11)研究生論文口試截止、學期結束:1/31 </span>'], ['<span lang=\"EN-US\" style=\"letter-spacing: -.3pt\"> (1)學期開始:2/1', '(2)補行上班(1/27調整放假):2/4', '(3)研究生網路初選:2/6-2/8', '(4)學士班各年級網路初選:2/6-2/10', '(5)研究生畢業離校截止日:2/10', '(6)全校學生開學、開始上課(註冊日)、全校學生繳費截止:2/13', '(7)學士班及進修學士班網路加退選:2/13-2/18', '(8)研究生(含碩專、產專生)網路加退選:2/13-2/19', '(9)寒假轉學生抵免學分、輔系雙主修、學分學程、第二專長申請:2/13-2/24', '(10)補行上班(2/27調整放假):2/18', '(11)2/27調整放假、2/28和平紀念日(放假):2/27-2/28 </span>'], ['<span lang=\"EN-US\" style=\"letter-spacing: -.3pt\"> (1)轉系申請:3/6-3/10', '(2)學雜費加退選開放繳費:3/20', '(3)課程退選截止、補行上班(4/3調整放假)、上課達1/3 (第6週止):3/25 </span>'], ['<span lang=\"EN-US\" style=\"letter-spacing: -.3pt\"> (1)4/3調整放假、4/4兒童節、4/5民族掃墓節:4/3-4/5', '(2)校慶及運動會補假:4/6-4/7、4/10', '(3)加退選繳費截止:4/9', '(4)上課達1/2 (第9週止):4/15', '(5)停修申請期間:4/17-5/12', '(6)學士班及進修學士班提前畢業申請:4/24-5/5', '(7)公告暑期授課班開班事宜:4/30 </span>'], ['<span lang=\"EN-US\" style=\"letter-spacing: -.3pt\"> (1)學士班1年級週會:5/4', '(2)上課達2/3 (第12週止):5/6', '(3)受理各類學雜費減免:5/29-6/9 </span>'], ['<span lang=\"EN-US\" style=\"letter-spacing: -.3pt\"> (1)畢業典禮:6/3', '(2)休學申請截止日:6/9', '(3)學期考試(期末考試):6/12-6/17', '(4)補行上班(6/23調整放假):6/17', '(5)第2次校內英文能力檢定考試:6/19-6/21', '(6)6/22端午節放假、6/23調整放假:6/22-6/23 </span>'], ['<span lang=\"EN-US\" style=\"letter-spacing: -.3pt\"> (1)碩士班研究生逕修讀博士學位申請:7/3-7/14', '(2)研究生論文口試申請截止:7/10', '(3)研究生論文口試截止、學期結束、學年結束:7/31 </span>']]\n",
            "[[[9, 9], [9, 10]], [[10, 10]], [[1, 1], [1, 2]], [[1, 3], [1, 9]], [[1, 20], [1, 27]], [[2, 4]], [[2, 18]], [[2, 27], [2, 28]], [[3, 25]], [[4, 3], [4, 5]], [[4, 6], [4, 7], [4, 10]], [[6, 17]], [[6, 22], [6, 23]]]\n"
          ]
        }
      ]
    },
    {
      "cell_type": "markdown",
      "source": [],
      "metadata": {
        "id": "e6cygtejlpNG"
      }
    },
    {
      "cell_type": "code",
      "source": [
        "\n",
        "def count_vocation(voc):\n",
        "  if voc[0][0] >=2 and voc[0][0] <8:\n",
        "    year = toCE(title1,1)\n",
        "  else:\n",
        "    year = toCE(title1)\n",
        "  l = len(voc)\n",
        "  if l == 1:\n",
        "    print(\"哭哭只有一天可以休息{}/{}\".format(voc[0][0],voc[0][1]))\n",
        "  elif (l==2):\n",
        "    v1 = datetime.date(year,voc[0][0],voc[0][1])\n",
        "    v2 = datetime.date(year,voc[1][0],voc[1][1])\n",
        "    if(voc[0][0]==voc[1][0]):\n",
        "      print(\"放{}天假\".format(abs(v1-v2).days+1))\n",
        "      print(v1,v2)\n",
        "  elif l==3:\n",
        "    v1 = datetime.date(year,voc[0][0],voc[0][1])\n",
        "    v2 = datetime.date(year,voc[1][0],voc[1][1])\n",
        "    v3 = datetime.date(year,voc[2][0],voc[2][1])\n",
        "    print(\"放{}天假\".format(abs(v1-v2).days+1))\n",
        "    print(v1,v2,v3)\n",
        "  elif l==4:\n",
        "    v1 = datetime.date(year,voc[0][0],voc[0][1])\n",
        "    v2 = datetime.date(year,voc[1][0],voc[1][1])\n",
        "    print(\"放{}天假\".format(abs(v1-v2).days+1))\n",
        "    print(v1,v2)\n",
        "    v3 = datetime.date(year,voc[2][0],voc[2][1])\n",
        "    v4 = datetime.date(year,voc[3][0],voc[3][1])\n",
        "    print(\"放{}天假\".format(abs(v3-v4).days+1))\n",
        "    print(v3,v3)\n"
      ],
      "metadata": {
        "id": "ZiVOoAlFkcdf"
      },
      "execution_count": null,
      "outputs": []
    },
    {
      "cell_type": "code",
      "source": [
        "for i in range(len(final)):\n",
        "  count_vocation(final[i])\n",
        "  print(final[i])"
      ],
      "metadata": {
        "colab": {
          "base_uri": "https://localhost:8080/"
        },
        "id": "FGDrbmWcts0i",
        "outputId": "3ee43179-ed49-47ff-e101-6ee6b3717b7d"
      },
      "execution_count": null,
      "outputs": [
        {
          "output_type": "stream",
          "name": "stdout",
          "text": [
            "放2天假\n",
            "2022-09-09 2022-09-10\n",
            "[[9, 9], [9, 10]]\n",
            "哭哭只有一天可以休息10/10\n",
            "[[10, 10]]\n",
            "放2天假\n",
            "2022-01-01 2022-01-02\n",
            "[[1, 1], [1, 2]]\n",
            "放7天假\n",
            "2022-01-03 2022-01-09\n",
            "[[1, 3], [1, 9]]\n",
            "放8天假\n",
            "2022-01-20 2022-01-27\n",
            "[[1, 20], [1, 27]]\n",
            "哭哭只有一天可以休息2/4\n",
            "[[2, 4]]\n",
            "哭哭只有一天可以休息2/18\n",
            "[[2, 18]]\n",
            "放2天假\n",
            "2023-02-27 2023-02-28\n",
            "[[2, 27], [2, 28]]\n",
            "哭哭只有一天可以休息3/25\n",
            "[[3, 25]]\n",
            "放3天假\n",
            "2023-04-03 2023-04-05\n",
            "[[4, 3], [4, 5]]\n",
            "放2天假\n",
            "2023-04-06 2023-04-07 2023-04-10\n",
            "[[4, 6], [4, 7], [4, 10]]\n",
            "哭哭只有一天可以休息6/17\n",
            "[[6, 17]]\n",
            "放2天假\n",
            "2023-06-22 2023-06-23\n",
            "[[6, 22], [6, 23]]\n"
          ]
        }
      ]
    },
    {
      "cell_type": "code",
      "source": [
        "count_vocation([[3,1],[4,4]])"
      ],
      "metadata": {
        "id": "OSpFtS43atMQ"
      },
      "execution_count": null,
      "outputs": []
    }
  ]
}